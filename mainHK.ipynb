{
 "cells": [
  {
   "cell_type": "code",
   "execution_count": 2,
   "id": "6d5a12e8",
   "metadata": {},
   "outputs": [
    {
     "name": "stderr",
     "output_type": "stream",
     "text": [
      "\n",
      "Bad key text.latex.unicode in file /Users/madhavprasad/mlexercise/jupyter-env/lib/python3.11/site-packages/matplotlib/mpl-data/stylelib/_classic_test.mplstyle, line 112 ('text.latex.unicode : False # use \"ucs\" and \"inputenc\" LaTeX packages for handling')\n",
      "You probably need to get an updated matplotlibrc file from\n",
      "https://github.com/matplotlib/matplotlib/blob/v3.7.1/matplotlibrc.template\n",
      "or from the matplotlib source distribution\n",
      "\n",
      "Bad key text.latex.preview in file /Users/madhavprasad/mlexercise/jupyter-env/lib/python3.11/site-packages/matplotlib/mpl-data/stylelib/_classic_test.mplstyle, line 125 ('text.latex.preview : False')\n",
      "You probably need to get an updated matplotlibrc file from\n",
      "https://github.com/matplotlib/matplotlib/blob/v3.7.1/matplotlibrc.template\n",
      "or from the matplotlib source distribution\n",
      "\n",
      "Bad key mathtext.fallback_to_cm in file /Users/madhavprasad/mlexercise/jupyter-env/lib/python3.11/site-packages/matplotlib/mpl-data/stylelib/_classic_test.mplstyle, line 157 ('mathtext.fallback_to_cm : True  # When True, use symbols from the Computer Modern')\n",
      "You probably need to get an updated matplotlibrc file from\n",
      "https://github.com/matplotlib/matplotlib/blob/v3.7.1/matplotlibrc.template\n",
      "or from the matplotlib source distribution\n",
      "\n",
      "Bad key savefig.jpeg_quality in file /Users/madhavprasad/mlexercise/jupyter-env/lib/python3.11/site-packages/matplotlib/mpl-data/stylelib/_classic_test.mplstyle, line 420 ('savefig.jpeg_quality: 95       # when a jpeg is saved, the default quality parameter.')\n",
      "You probably need to get an updated matplotlibrc file from\n",
      "https://github.com/matplotlib/matplotlib/blob/v3.7.1/matplotlibrc.template\n",
      "or from the matplotlib source distribution\n",
      "\n",
      "Bad key savefig.frameon in file /Users/madhavprasad/mlexercise/jupyter-env/lib/python3.11/site-packages/matplotlib/mpl-data/stylelib/_classic_test.mplstyle, line 423 ('savefig.frameon : True')\n",
      "You probably need to get an updated matplotlibrc file from\n",
      "https://github.com/matplotlib/matplotlib/blob/v3.7.1/matplotlibrc.template\n",
      "or from the matplotlib source distribution\n",
      "\n",
      "Bad key pgf.debug in file /Users/madhavprasad/mlexercise/jupyter-env/lib/python3.11/site-packages/matplotlib/mpl-data/stylelib/_classic_test.mplstyle, line 444 ('pgf.debug           : False')\n",
      "You probably need to get an updated matplotlibrc file from\n",
      "https://github.com/matplotlib/matplotlib/blob/v3.7.1/matplotlibrc.template\n",
      "or from the matplotlib source distribution\n",
      "\n",
      "Bad key verbose.level in file /Users/madhavprasad/mlexercise/jupyter-env/lib/python3.11/site-packages/matplotlib/mpl-data/stylelib/_classic_test.mplstyle, line 475 ('verbose.level  : silent      # one of silent, helpful, debug, debug-annoying')\n",
      "You probably need to get an updated matplotlibrc file from\n",
      "https://github.com/matplotlib/matplotlib/blob/v3.7.1/matplotlibrc.template\n",
      "or from the matplotlib source distribution\n",
      "\n",
      "Bad key verbose.fileo in file /Users/madhavprasad/mlexercise/jupyter-env/lib/python3.11/site-packages/matplotlib/mpl-data/stylelib/_classic_test.mplstyle, line 476 ('verbose.fileo  : sys.stdout  # a log filename, sys.stdout or sys.stderr')\n",
      "You probably need to get an updated matplotlibrc file from\n",
      "https://github.com/matplotlib/matplotlib/blob/v3.7.1/matplotlibrc.template\n",
      "or from the matplotlib source distribution\n",
      "\n",
      "Bad key keymap.all_axes in file /Users/madhavprasad/mlexercise/jupyter-env/lib/python3.11/site-packages/matplotlib/mpl-data/stylelib/_classic_test.mplstyle, line 493 ('keymap.all_axes : a                 # enable all axes')\n",
      "You probably need to get an updated matplotlibrc file from\n",
      "https://github.com/matplotlib/matplotlib/blob/v3.7.1/matplotlibrc.template\n",
      "or from the matplotlib source distribution\n",
      "\n",
      "Bad key animation.avconv_path in file /Users/madhavprasad/mlexercise/jupyter-env/lib/python3.11/site-packages/matplotlib/mpl-data/stylelib/_classic_test.mplstyle, line 504 ('animation.avconv_path: avconv     # Path to avconv binary. Without full path')\n",
      "You probably need to get an updated matplotlibrc file from\n",
      "https://github.com/matplotlib/matplotlib/blob/v3.7.1/matplotlibrc.template\n",
      "or from the matplotlib source distribution\n",
      "\n",
      "Bad key animation.avconv_args in file /Users/madhavprasad/mlexercise/jupyter-env/lib/python3.11/site-packages/matplotlib/mpl-data/stylelib/_classic_test.mplstyle, line 506 ('animation.avconv_args:            # Additional arguments to pass to avconv')\n",
      "You probably need to get an updated matplotlibrc file from\n",
      "https://github.com/matplotlib/matplotlib/blob/v3.7.1/matplotlibrc.template\n",
      "or from the matplotlib source distribution\n"
     ]
    }
   ],
   "source": [
    "import numpy as np                 # Numerical computing\n",
    "import pandas as pd                # Data manipulation and analysis\n",
    "import matplotlib.pyplot as plt    # Plotting and visualization\n",
    "import seaborn as sns              # Advanced statistical visualizations\n",
    "\n",
    "# Display plots inline within the notebook\n",
    "#%matplotlib inline"
   ]
  },
  {
   "cell_type": "code",
   "execution_count": 3,
   "id": "d746d83e",
   "metadata": {
    "scrolled": true
   },
   "outputs": [
    {
     "name": "stderr",
     "output_type": "stream",
     "text": [
      "<ipython-input-3-2067d713083d>:1: DtypeWarning: Columns (1,11,12,14) have mixed types. Specify dtype option on import or set low_memory=False.\n",
      "  df = pd.read_csv(\"beijing.csv\", encoding ='GBK')\n"
     ]
    },
    {
     "data": {
      "text/html": [
       "<div>\n",
       "<style scoped>\n",
       "    .dataframe tbody tr th:only-of-type {\n",
       "        vertical-align: middle;\n",
       "    }\n",
       "\n",
       "    .dataframe tbody tr th {\n",
       "        vertical-align: top;\n",
       "    }\n",
       "\n",
       "    .dataframe thead th {\n",
       "        text-align: right;\n",
       "    }\n",
       "</style>\n",
       "<table border=\"1\" class=\"dataframe\">\n",
       "  <thead>\n",
       "    <tr style=\"text-align: right;\">\n",
       "      <th></th>\n",
       "      <th>url</th>\n",
       "      <th>id</th>\n",
       "      <th>Lng</th>\n",
       "      <th>Lat</th>\n",
       "      <th>Cid</th>\n",
       "      <th>tradeTime</th>\n",
       "      <th>DOM</th>\n",
       "      <th>followers</th>\n",
       "      <th>totalPrice</th>\n",
       "      <th>price</th>\n",
       "      <th>...</th>\n",
       "      <th>buildingType</th>\n",
       "      <th>constructionTime</th>\n",
       "      <th>renovationCondition</th>\n",
       "      <th>buildingStructure</th>\n",
       "      <th>ladderRatio</th>\n",
       "      <th>elevator</th>\n",
       "      <th>fiveYearsProperty</th>\n",
       "      <th>subway</th>\n",
       "      <th>district</th>\n",
       "      <th>communityAverage</th>\n",
       "    </tr>\n",
       "  </thead>\n",
       "  <tbody>\n",
       "    <tr>\n",
       "      <th>0</th>\n",
       "      <td>https://bj.lianjia.com/chengjiao/101084782030....</td>\n",
       "      <td>101084782030</td>\n",
       "      <td>116.475489</td>\n",
       "      <td>40.019520</td>\n",
       "      <td>1111027376244</td>\n",
       "      <td>2016-08-09</td>\n",
       "      <td>1464.0</td>\n",
       "      <td>106</td>\n",
       "      <td>415.0</td>\n",
       "      <td>31680</td>\n",
       "      <td>...</td>\n",
       "      <td>1.0</td>\n",
       "      <td>2005</td>\n",
       "      <td>3</td>\n",
       "      <td>6</td>\n",
       "      <td>0.217</td>\n",
       "      <td>1.0</td>\n",
       "      <td>0.0</td>\n",
       "      <td>1.0</td>\n",
       "      <td>7</td>\n",
       "      <td>56021.0</td>\n",
       "    </tr>\n",
       "    <tr>\n",
       "      <th>1</th>\n",
       "      <td>https://bj.lianjia.com/chengjiao/101086012217....</td>\n",
       "      <td>101086012217</td>\n",
       "      <td>116.453917</td>\n",
       "      <td>39.881534</td>\n",
       "      <td>1111027381879</td>\n",
       "      <td>2016-07-28</td>\n",
       "      <td>903.0</td>\n",
       "      <td>126</td>\n",
       "      <td>575.0</td>\n",
       "      <td>43436</td>\n",
       "      <td>...</td>\n",
       "      <td>1.0</td>\n",
       "      <td>2004</td>\n",
       "      <td>4</td>\n",
       "      <td>6</td>\n",
       "      <td>0.667</td>\n",
       "      <td>1.0</td>\n",
       "      <td>1.0</td>\n",
       "      <td>0.0</td>\n",
       "      <td>7</td>\n",
       "      <td>71539.0</td>\n",
       "    </tr>\n",
       "    <tr>\n",
       "      <th>2</th>\n",
       "      <td>https://bj.lianjia.com/chengjiao/101086041636....</td>\n",
       "      <td>101086041636</td>\n",
       "      <td>116.561978</td>\n",
       "      <td>39.877145</td>\n",
       "      <td>1111040862969</td>\n",
       "      <td>2016-12-11</td>\n",
       "      <td>1271.0</td>\n",
       "      <td>48</td>\n",
       "      <td>1030.0</td>\n",
       "      <td>52021</td>\n",
       "      <td>...</td>\n",
       "      <td>4.0</td>\n",
       "      <td>2005</td>\n",
       "      <td>3</td>\n",
       "      <td>6</td>\n",
       "      <td>0.500</td>\n",
       "      <td>1.0</td>\n",
       "      <td>0.0</td>\n",
       "      <td>0.0</td>\n",
       "      <td>7</td>\n",
       "      <td>48160.0</td>\n",
       "    </tr>\n",
       "    <tr>\n",
       "      <th>3</th>\n",
       "      <td>https://bj.lianjia.com/chengjiao/101086406841....</td>\n",
       "      <td>101086406841</td>\n",
       "      <td>116.438010</td>\n",
       "      <td>40.076114</td>\n",
       "      <td>1111043185817</td>\n",
       "      <td>2016-09-30</td>\n",
       "      <td>965.0</td>\n",
       "      <td>138</td>\n",
       "      <td>297.5</td>\n",
       "      <td>22202</td>\n",
       "      <td>...</td>\n",
       "      <td>1.0</td>\n",
       "      <td>2008</td>\n",
       "      <td>1</td>\n",
       "      <td>6</td>\n",
       "      <td>0.273</td>\n",
       "      <td>1.0</td>\n",
       "      <td>0.0</td>\n",
       "      <td>0.0</td>\n",
       "      <td>6</td>\n",
       "      <td>51238.0</td>\n",
       "    </tr>\n",
       "    <tr>\n",
       "      <th>4</th>\n",
       "      <td>https://bj.lianjia.com/chengjiao/101086920653....</td>\n",
       "      <td>101086920653</td>\n",
       "      <td>116.428392</td>\n",
       "      <td>39.886229</td>\n",
       "      <td>1111027381174</td>\n",
       "      <td>2016-08-28</td>\n",
       "      <td>927.0</td>\n",
       "      <td>286</td>\n",
       "      <td>392.0</td>\n",
       "      <td>48396</td>\n",
       "      <td>...</td>\n",
       "      <td>4.0</td>\n",
       "      <td>1960</td>\n",
       "      <td>2</td>\n",
       "      <td>2</td>\n",
       "      <td>0.333</td>\n",
       "      <td>0.0</td>\n",
       "      <td>1.0</td>\n",
       "      <td>1.0</td>\n",
       "      <td>1</td>\n",
       "      <td>62588.0</td>\n",
       "    </tr>\n",
       "  </tbody>\n",
       "</table>\n",
       "<p>5 rows × 26 columns</p>\n",
       "</div>"
      ],
      "text/plain": [
       "                                                 url            id   \n",
       "0  https://bj.lianjia.com/chengjiao/101084782030....  101084782030  \\\n",
       "1  https://bj.lianjia.com/chengjiao/101086012217....  101086012217   \n",
       "2  https://bj.lianjia.com/chengjiao/101086041636....  101086041636   \n",
       "3  https://bj.lianjia.com/chengjiao/101086406841....  101086406841   \n",
       "4  https://bj.lianjia.com/chengjiao/101086920653....  101086920653   \n",
       "\n",
       "          Lng        Lat            Cid   tradeTime     DOM  followers   \n",
       "0  116.475489  40.019520  1111027376244  2016-08-09  1464.0        106  \\\n",
       "1  116.453917  39.881534  1111027381879  2016-07-28   903.0        126   \n",
       "2  116.561978  39.877145  1111040862969  2016-12-11  1271.0         48   \n",
       "3  116.438010  40.076114  1111043185817  2016-09-30   965.0        138   \n",
       "4  116.428392  39.886229  1111027381174  2016-08-28   927.0        286   \n",
       "\n",
       "   totalPrice  price  ...  buildingType constructionTime renovationCondition   \n",
       "0       415.0  31680  ...           1.0             2005                   3  \\\n",
       "1       575.0  43436  ...           1.0             2004                   4   \n",
       "2      1030.0  52021  ...           4.0             2005                   3   \n",
       "3       297.5  22202  ...           1.0             2008                   1   \n",
       "4       392.0  48396  ...           4.0             1960                   2   \n",
       "\n",
       "   buildingStructure ladderRatio elevator  fiveYearsProperty subway  district   \n",
       "0                  6       0.217      1.0                0.0    1.0         7  \\\n",
       "1                  6       0.667      1.0                1.0    0.0         7   \n",
       "2                  6       0.500      1.0                0.0    0.0         7   \n",
       "3                  6       0.273      1.0                0.0    0.0         6   \n",
       "4                  2       0.333      0.0                1.0    1.0         1   \n",
       "\n",
       "   communityAverage  \n",
       "0           56021.0  \n",
       "1           71539.0  \n",
       "2           48160.0  \n",
       "3           51238.0  \n",
       "4           62588.0  \n",
       "\n",
       "[5 rows x 26 columns]"
      ]
     },
     "execution_count": 3,
     "metadata": {},
     "output_type": "execute_result"
    }
   ],
   "source": [
    "df = pd.read_csv(\"beijing.csv\", encoding ='GBK')\n",
    "df.head(5)"
   ]
  },
  {
   "cell_type": "code",
   "execution_count": 4,
   "id": "eafb3748",
   "metadata": {
    "scrolled": true
   },
   "outputs": [
    {
     "data": {
      "text/html": [
       "<div>\n",
       "<style scoped>\n",
       "    .dataframe tbody tr th:only-of-type {\n",
       "        vertical-align: middle;\n",
       "    }\n",
       "\n",
       "    .dataframe tbody tr th {\n",
       "        vertical-align: top;\n",
       "    }\n",
       "\n",
       "    .dataframe thead th {\n",
       "        text-align: right;\n",
       "    }\n",
       "</style>\n",
       "<table border=\"1\" class=\"dataframe\">\n",
       "  <thead>\n",
       "    <tr style=\"text-align: right;\">\n",
       "      <th></th>\n",
       "      <th>Lng</th>\n",
       "      <th>Lat</th>\n",
       "      <th>Cid</th>\n",
       "      <th>DOM</th>\n",
       "      <th>followers</th>\n",
       "      <th>totalPrice</th>\n",
       "      <th>price</th>\n",
       "      <th>square</th>\n",
       "      <th>kitchen</th>\n",
       "      <th>buildingType</th>\n",
       "      <th>renovationCondition</th>\n",
       "      <th>buildingStructure</th>\n",
       "      <th>ladderRatio</th>\n",
       "      <th>elevator</th>\n",
       "      <th>fiveYearsProperty</th>\n",
       "      <th>subway</th>\n",
       "      <th>district</th>\n",
       "      <th>communityAverage</th>\n",
       "    </tr>\n",
       "  </thead>\n",
       "  <tbody>\n",
       "    <tr>\n",
       "      <th>count</th>\n",
       "      <td>318851.000000</td>\n",
       "      <td>318851.000000</td>\n",
       "      <td>3.188510e+05</td>\n",
       "      <td>160874.000000</td>\n",
       "      <td>318851.000000</td>\n",
       "      <td>318851.000000</td>\n",
       "      <td>318851.000000</td>\n",
       "      <td>318851.000000</td>\n",
       "      <td>318851.000000</td>\n",
       "      <td>316830.000000</td>\n",
       "      <td>318851.000000</td>\n",
       "      <td>318851.000000</td>\n",
       "      <td>3.188510e+05</td>\n",
       "      <td>318819.000000</td>\n",
       "      <td>318819.000000</td>\n",
       "      <td>318819.000000</td>\n",
       "      <td>318851.000000</td>\n",
       "      <td>318388.000000</td>\n",
       "    </tr>\n",
       "    <tr>\n",
       "      <th>mean</th>\n",
       "      <td>116.418459</td>\n",
       "      <td>39.949591</td>\n",
       "      <td>1.129113e+12</td>\n",
       "      <td>28.822339</td>\n",
       "      <td>16.731508</td>\n",
       "      <td>349.030201</td>\n",
       "      <td>43530.436379</td>\n",
       "      <td>83.240597</td>\n",
       "      <td>0.994599</td>\n",
       "      <td>3.009790</td>\n",
       "      <td>2.606330</td>\n",
       "      <td>4.451026</td>\n",
       "      <td>6.316486e+01</td>\n",
       "      <td>0.577055</td>\n",
       "      <td>0.645601</td>\n",
       "      <td>0.601112</td>\n",
       "      <td>6.763564</td>\n",
       "      <td>63682.446305</td>\n",
       "    </tr>\n",
       "    <tr>\n",
       "      <th>std</th>\n",
       "      <td>0.112054</td>\n",
       "      <td>0.091983</td>\n",
       "      <td>2.363447e+12</td>\n",
       "      <td>50.237343</td>\n",
       "      <td>34.209185</td>\n",
       "      <td>230.780778</td>\n",
       "      <td>21709.024204</td>\n",
       "      <td>37.234661</td>\n",
       "      <td>0.109609</td>\n",
       "      <td>1.269857</td>\n",
       "      <td>1.311739</td>\n",
       "      <td>1.901753</td>\n",
       "      <td>2.506851e+04</td>\n",
       "      <td>0.494028</td>\n",
       "      <td>0.478331</td>\n",
       "      <td>0.489670</td>\n",
       "      <td>2.812616</td>\n",
       "      <td>22329.215447</td>\n",
       "    </tr>\n",
       "    <tr>\n",
       "      <th>min</th>\n",
       "      <td>116.072514</td>\n",
       "      <td>39.627030</td>\n",
       "      <td>1.111027e+12</td>\n",
       "      <td>1.000000</td>\n",
       "      <td>0.000000</td>\n",
       "      <td>0.100000</td>\n",
       "      <td>1.000000</td>\n",
       "      <td>6.900000</td>\n",
       "      <td>0.000000</td>\n",
       "      <td>0.048000</td>\n",
       "      <td>0.000000</td>\n",
       "      <td>0.000000</td>\n",
       "      <td>0.000000e+00</td>\n",
       "      <td>0.000000</td>\n",
       "      <td>0.000000</td>\n",
       "      <td>0.000000</td>\n",
       "      <td>1.000000</td>\n",
       "      <td>10847.000000</td>\n",
       "    </tr>\n",
       "    <tr>\n",
       "      <th>25%</th>\n",
       "      <td>116.344985</td>\n",
       "      <td>39.893200</td>\n",
       "      <td>1.111027e+12</td>\n",
       "      <td>1.000000</td>\n",
       "      <td>0.000000</td>\n",
       "      <td>205.000000</td>\n",
       "      <td>28050.000000</td>\n",
       "      <td>57.900000</td>\n",
       "      <td>1.000000</td>\n",
       "      <td>1.000000</td>\n",
       "      <td>1.000000</td>\n",
       "      <td>2.000000</td>\n",
       "      <td>2.500000e-01</td>\n",
       "      <td>0.000000</td>\n",
       "      <td>0.000000</td>\n",
       "      <td>0.000000</td>\n",
       "      <td>6.000000</td>\n",
       "      <td>46339.000000</td>\n",
       "    </tr>\n",
       "    <tr>\n",
       "      <th>50%</th>\n",
       "      <td>116.416780</td>\n",
       "      <td>39.934527</td>\n",
       "      <td>1.111027e+12</td>\n",
       "      <td>6.000000</td>\n",
       "      <td>5.000000</td>\n",
       "      <td>294.000000</td>\n",
       "      <td>38737.000000</td>\n",
       "      <td>74.260000</td>\n",
       "      <td>1.000000</td>\n",
       "      <td>4.000000</td>\n",
       "      <td>3.000000</td>\n",
       "      <td>6.000000</td>\n",
       "      <td>3.330000e-01</td>\n",
       "      <td>1.000000</td>\n",
       "      <td>1.000000</td>\n",
       "      <td>1.000000</td>\n",
       "      <td>7.000000</td>\n",
       "      <td>59015.000000</td>\n",
       "    </tr>\n",
       "    <tr>\n",
       "      <th>75%</th>\n",
       "      <td>116.477581</td>\n",
       "      <td>40.003018</td>\n",
       "      <td>1.111027e+12</td>\n",
       "      <td>37.000000</td>\n",
       "      <td>18.000000</td>\n",
       "      <td>425.500000</td>\n",
       "      <td>53819.500000</td>\n",
       "      <td>98.710000</td>\n",
       "      <td>1.000000</td>\n",
       "      <td>4.000000</td>\n",
       "      <td>4.000000</td>\n",
       "      <td>6.000000</td>\n",
       "      <td>5.000000e-01</td>\n",
       "      <td>1.000000</td>\n",
       "      <td>1.000000</td>\n",
       "      <td>1.000000</td>\n",
       "      <td>8.000000</td>\n",
       "      <td>75950.000000</td>\n",
       "    </tr>\n",
       "    <tr>\n",
       "      <th>max</th>\n",
       "      <td>116.732378</td>\n",
       "      <td>40.252758</td>\n",
       "      <td>1.114620e+15</td>\n",
       "      <td>1677.000000</td>\n",
       "      <td>1143.000000</td>\n",
       "      <td>18130.000000</td>\n",
       "      <td>156250.000000</td>\n",
       "      <td>1745.500000</td>\n",
       "      <td>4.000000</td>\n",
       "      <td>4.000000</td>\n",
       "      <td>4.000000</td>\n",
       "      <td>6.000000</td>\n",
       "      <td>1.000940e+07</td>\n",
       "      <td>1.000000</td>\n",
       "      <td>1.000000</td>\n",
       "      <td>1.000000</td>\n",
       "      <td>13.000000</td>\n",
       "      <td>183109.000000</td>\n",
       "    </tr>\n",
       "  </tbody>\n",
       "</table>\n",
       "</div>"
      ],
      "text/plain": [
       "                 Lng            Lat           Cid            DOM   \n",
       "count  318851.000000  318851.000000  3.188510e+05  160874.000000  \\\n",
       "mean      116.418459      39.949591  1.129113e+12      28.822339   \n",
       "std         0.112054       0.091983  2.363447e+12      50.237343   \n",
       "min       116.072514      39.627030  1.111027e+12       1.000000   \n",
       "25%       116.344985      39.893200  1.111027e+12       1.000000   \n",
       "50%       116.416780      39.934527  1.111027e+12       6.000000   \n",
       "75%       116.477581      40.003018  1.111027e+12      37.000000   \n",
       "max       116.732378      40.252758  1.114620e+15    1677.000000   \n",
       "\n",
       "           followers     totalPrice          price         square   \n",
       "count  318851.000000  318851.000000  318851.000000  318851.000000  \\\n",
       "mean       16.731508     349.030201   43530.436379      83.240597   \n",
       "std        34.209185     230.780778   21709.024204      37.234661   \n",
       "min         0.000000       0.100000       1.000000       6.900000   \n",
       "25%         0.000000     205.000000   28050.000000      57.900000   \n",
       "50%         5.000000     294.000000   38737.000000      74.260000   \n",
       "75%        18.000000     425.500000   53819.500000      98.710000   \n",
       "max      1143.000000   18130.000000  156250.000000    1745.500000   \n",
       "\n",
       "             kitchen   buildingType  renovationCondition  buildingStructure   \n",
       "count  318851.000000  316830.000000        318851.000000      318851.000000  \\\n",
       "mean        0.994599       3.009790             2.606330           4.451026   \n",
       "std         0.109609       1.269857             1.311739           1.901753   \n",
       "min         0.000000       0.048000             0.000000           0.000000   \n",
       "25%         1.000000       1.000000             1.000000           2.000000   \n",
       "50%         1.000000       4.000000             3.000000           6.000000   \n",
       "75%         1.000000       4.000000             4.000000           6.000000   \n",
       "max         4.000000       4.000000             4.000000           6.000000   \n",
       "\n",
       "        ladderRatio       elevator  fiveYearsProperty         subway   \n",
       "count  3.188510e+05  318819.000000      318819.000000  318819.000000  \\\n",
       "mean   6.316486e+01       0.577055           0.645601       0.601112   \n",
       "std    2.506851e+04       0.494028           0.478331       0.489670   \n",
       "min    0.000000e+00       0.000000           0.000000       0.000000   \n",
       "25%    2.500000e-01       0.000000           0.000000       0.000000   \n",
       "50%    3.330000e-01       1.000000           1.000000       1.000000   \n",
       "75%    5.000000e-01       1.000000           1.000000       1.000000   \n",
       "max    1.000940e+07       1.000000           1.000000       1.000000   \n",
       "\n",
       "            district  communityAverage  \n",
       "count  318851.000000     318388.000000  \n",
       "mean        6.763564      63682.446305  \n",
       "std         2.812616      22329.215447  \n",
       "min         1.000000      10847.000000  \n",
       "25%         6.000000      46339.000000  \n",
       "50%         7.000000      59015.000000  \n",
       "75%         8.000000      75950.000000  \n",
       "max        13.000000     183109.000000  "
      ]
     },
     "execution_count": 4,
     "metadata": {},
     "output_type": "execute_result"
    }
   ],
   "source": [
    "df.describe()"
   ]
  },
  {
   "cell_type": "code",
   "execution_count": 5,
   "id": "cfda5425",
   "metadata": {},
   "outputs": [
    {
     "name": "stdout",
     "output_type": "stream",
     "text": [
      "Correlation Matrix:\n",
      "          Lat       Lng       Cid\n",
      "Lat  1.000000  0.040847 -0.000257\n",
      "Lng  0.040847  1.000000 -0.007301\n",
      "Cid -0.000257 -0.007301  1.000000\n"
     ]
    }
   ],
   "source": [
    "correlation_matrix = df[['Lat', 'Lng', 'Cid']].corr()\n",
    "print(\"Correlation Matrix:\")\n",
    "print(correlation_matrix)\n"
   ]
  },
  {
   "cell_type": "code",
   "execution_count": 6,
   "id": "c434790d",
   "metadata": {},
   "outputs": [],
   "source": [
    "df = df.drop('url',axis = 1)"
   ]
  },
  {
   "cell_type": "code",
   "execution_count": 7,
   "id": "d3c99dca",
   "metadata": {},
   "outputs": [
    {
     "name": "stdout",
     "output_type": "stream",
     "text": [
      "id                      object\n",
      "Lng                    float64\n",
      "Lat                    float64\n",
      "Cid                      int64\n",
      "tradeTime               object\n",
      "DOM                    float64\n",
      "followers                int64\n",
      "totalPrice             float64\n",
      "price                    int64\n",
      "square                 float64\n",
      "livingRoom              object\n",
      "drawingRoom             object\n",
      "kitchen                  int64\n",
      "bathRoom                object\n",
      "floor                   object\n",
      "buildingType           float64\n",
      "constructionTime        object\n",
      "renovationCondition      int64\n",
      "buildingStructure        int64\n",
      "ladderRatio            float64\n",
      "elevator               float64\n",
      "fiveYearsProperty      float64\n",
      "subway                 float64\n",
      "district                 int64\n",
      "communityAverage       float64\n",
      "dtype: object\n"
     ]
    }
   ],
   "source": [
    "\n",
    "print(df.dtypes)"
   ]
  },
  {
   "cell_type": "code",
   "execution_count": 13,
   "id": "eea6dd67",
   "metadata": {},
   "outputs": [],
   "source": [
    "df['id'] = df['id'].astype(str)"
   ]
  },
  {
   "cell_type": "code",
   "execution_count": 14,
   "id": "eeeb479f",
   "metadata": {},
   "outputs": [
    {
     "name": "stdout",
     "output_type": "stream",
     "text": [
      "id                      object\n",
      "Lng                    float64\n",
      "Lat                    float64\n",
      "Cid                      int64\n",
      "tradeTime               object\n",
      "DOM                    float64\n",
      "followers                int64\n",
      "totalPrice             float64\n",
      "price                    int64\n",
      "square                 float64\n",
      "livingRoom              object\n",
      "drawingRoom             object\n",
      "kitchen                  int64\n",
      "bathRoom                object\n",
      "floor                   object\n",
      "buildingType           float64\n",
      "constructionTime        object\n",
      "renovationCondition      int64\n",
      "buildingStructure        int64\n",
      "ladderRatio            float64\n",
      "elevator               float64\n",
      "fiveYearsProperty      float64\n",
      "subway                 float64\n",
      "district                 int64\n",
      "communityAverage       float64\n",
      "dtype: object\n"
     ]
    }
   ],
   "source": [
    "print(df.dtypes)"
   ]
  },
  {
   "cell_type": "code",
   "execution_count": 15,
   "id": "d007e380",
   "metadata": {},
   "outputs": [
    {
     "name": "stdout",
     "output_type": "stream",
     "text": [
      "True\n"
     ]
    }
   ],
   "source": [
    "print(df['id'].is_unique)"
   ]
  },
  {
   "cell_type": "code",
   "execution_count": 16,
   "id": "c0a5f2c1",
   "metadata": {},
   "outputs": [
    {
     "name": "stdout",
     "output_type": "stream",
     "text": [
      "False\n"
     ]
    }
   ],
   "source": [
    "print(df['Cid'].is_unique)"
   ]
  },
  {
   "cell_type": "code",
   "execution_count": 17,
   "id": "81c9fb8c",
   "metadata": {},
   "outputs": [
    {
     "name": "stdout",
     "output_type": "stream",
     "text": [
      "   bathRoom   count\n",
      "0         0     804\n",
      "1         1  206915\n",
      "2         2   42367\n",
      "3         3    2712\n",
      "4         4     425\n",
      "5         5      53\n",
      "6         6       9\n",
      "7         7       2\n",
      "8      1990       2\n",
      "9      1994       1\n",
      "10     1996       1\n",
      "11     2000       3\n",
      "12     2003       5\n",
      "13     2004       4\n",
      "14     2005       2\n",
      "15     2006       9\n",
      "16     2011       1\n",
      "17        0     111\n",
      "18        1   54573\n",
      "19        2   10239\n",
      "20     2003       2\n",
      "21        3     528\n",
      "22        4      64\n",
      "23        5      16\n",
      "24        7       1\n",
      "25       未知       2\n"
     ]
    }
   ],
   "source": [
    "# Group by 'bathroom' and count the number of entries for each group\n",
    "bathroom_counts = df.groupby('bathRoom')['id'].count().reset_index()\n",
    "\n",
    "# Rename columns for clarity\n",
    "bathroom_counts.columns = ['bathRoom', 'count']\n",
    "\n",
    "print(bathroom_counts)"
   ]
  },
  {
   "cell_type": "code",
   "execution_count": 18,
   "id": "fac9cacf",
   "metadata": {},
   "outputs": [
    {
     "name": "stdout",
     "output_type": "stream",
     "text": [
      "Unique values before cleaning:\n",
      "[1 2 3 0 4 5 6 7 2006 2003 1990 2000 1996 2005 2011 '1' '2' '0' '3' '4'\n",
      " '5' '未知' 1994 2004 '2003' '7']\n",
      "\n",
      "Cleaned bathroom counts:\n",
      "    bathRoom   count\n",
      "0          0     915\n",
      "1          1  261488\n",
      "2          2   52606\n",
      "3          3    3240\n",
      "4          4     489\n",
      "5          5      69\n",
      "6          6       9\n",
      "7          7       3\n",
      "8       1990       2\n",
      "9       1994       1\n",
      "10      1996       1\n",
      "11      2000       3\n",
      "12      2003       7\n",
      "13      2004       4\n",
      "14      2005       2\n",
      "15      2006       9\n",
      "16      2011       1\n"
     ]
    }
   ],
   "source": [
    "print(\"Unique values before cleaning:\")\n",
    "print(df['bathRoom'].unique())\n",
    "\n",
    "# 2. Filter out invalid entries\n",
    "valid_bathrooms = df['bathRoom'].astype(str).str.isdigit()  # Keep only entries that are digits\n",
    "df_cleaned = df[valid_bathrooms].copy()\n",
    "\n",
    "# 3. Convert 'bathRoom' to integer type\n",
    "df_cleaned['bathRoom'] = df_cleaned['bathRoom'].astype(int)\n",
    "\n",
    "# 4. Recalculate counts grouped by 'bathRoom'\n",
    "bathroom_counts = df_cleaned.groupby('bathRoom')['id'].count().reset_index()\n",
    "bathroom_counts.columns = ['bathRoom', 'count']\n",
    "\n",
    "# Display cleaned counts\n",
    "print(\"\\nCleaned bathroom counts:\")\n",
    "print(bathroom_counts)"
   ]
  },
  {
   "cell_type": "code",
   "execution_count": 19,
   "id": "f3da9f96",
   "metadata": {},
   "outputs": [
    {
     "name": "stdout",
     "output_type": "stream",
     "text": [
      "                  id         Lng        Lat            Cid   tradeTime   \n",
      "0       101084782030  116.475489  40.019520  1111027376244  2016-08-09  \\\n",
      "1       101086012217  116.453917  39.881534  1111027381879  2016-07-28   \n",
      "2       101086041636  116.561978  39.877145  1111040862969  2016-12-11   \n",
      "3       101086406841  116.438010  40.076114  1111043185817  2016-09-30   \n",
      "4       101086920653  116.428392  39.886229  1111027381174  2016-08-28   \n",
      "...              ...         ...        ...            ...         ...   \n",
      "318846  BJYZ92311192  116.546899  39.755236  1111027377053  2016-06-10   \n",
      "318847  BJYZ92320171  116.497474  39.810115  1111027377957  2016-06-10   \n",
      "318848  BJYZ92324217  116.497256  39.804081  1111027380056  2016-06-05   \n",
      "318849  BJYZ92333313  116.501794  39.799347  1111027377054  2016-06-12   \n",
      "318850  BJYZ92363553  116.497474  39.810115  1111027377957  2016-06-11   \n",
      "\n",
      "           DOM  followers  totalPrice  price  square  ... buildingType   \n",
      "0       1464.0        106       415.0  31680  131.00  ...          1.0  \\\n",
      "1        903.0        126       575.0  43436  132.38  ...          1.0   \n",
      "2       1271.0         48      1030.0  52021  198.00  ...          4.0   \n",
      "3        965.0        138       297.5  22202  134.00  ...          1.0   \n",
      "4        927.0        286       392.0  48396   81.00  ...          4.0   \n",
      "...        ...        ...         ...    ...     ...  ...          ...   \n",
      "318846     1.0          8       350.0  20580  170.07  ...          4.0   \n",
      "318847     NaN          1       108.8  31006   35.09  ...          1.0   \n",
      "318848     1.0          2       359.0  35138  102.17  ...          4.0   \n",
      "318849     NaN          4       720.0  40373  178.34  ...          4.0   \n",
      "318850     1.0          0       450.0  48675   92.45  ...          4.0   \n",
      "\n",
      "       constructionTime  renovationCondition  buildingStructure ladderRatio   \n",
      "0                  2005                    3                  6       0.217  \\\n",
      "1                  2004                    4                  6       0.667   \n",
      "2                  2005                    3                  6       0.500   \n",
      "3                  2008                    1                  6       0.273   \n",
      "4                  1960                    2                  2       0.333   \n",
      "...                 ...                  ...                ...         ...   \n",
      "318846             2003                    1                  6       0.333   \n",
      "318847             2009                    1                  6       0.222   \n",
      "318848             2000                    3                  6       0.500   \n",
      "318849             2003                    4                  2       0.500   \n",
      "318850               未知                    4                  6       1.000   \n",
      "\n",
      "        elevator fiveYearsProperty  subway  district  communityAverage  \n",
      "0            1.0               0.0     1.0         7           56021.0  \n",
      "1            1.0               1.0     0.0         7           71539.0  \n",
      "2            1.0               0.0     0.0         7           48160.0  \n",
      "3            1.0               0.0     0.0         6           51238.0  \n",
      "4            0.0               1.0     1.0         1           62588.0  \n",
      "...          ...               ...     ...       ...               ...  \n",
      "318846       0.0               1.0     0.0         3           36545.0  \n",
      "318847       1.0               0.0     1.0         3           54282.0  \n",
      "318848       1.0               1.0     0.0         3           46927.0  \n",
      "318849       0.0               1.0     0.0         3           54842.0  \n",
      "318850       1.0               0.0     1.0         3           54282.0  \n",
      "\n",
      "[318819 rows x 25 columns]\n"
     ]
    }
   ],
   "source": [
    "df = df_cleaned[df_cleaned['bathRoom'] <= 7]\n",
    "\n",
    "# Display the cleaned DataFrame\n",
    "print(df)"
   ]
  },
  {
   "cell_type": "code",
   "execution_count": 20,
   "id": "c0c0ee15",
   "metadata": {},
   "outputs": [
    {
     "name": "stdout",
     "output_type": "stream",
     "text": [
      "id                      object\n",
      "Lng                    float64\n",
      "Lat                    float64\n",
      "Cid                      int64\n",
      "tradeTime               object\n",
      "DOM                    float64\n",
      "followers                int64\n",
      "totalPrice             float64\n",
      "price                    int64\n",
      "square                 float64\n",
      "livingRoom              object\n",
      "drawingRoom             object\n",
      "kitchen                  int64\n",
      "bathRoom                 int64\n",
      "floor                   object\n",
      "buildingType           float64\n",
      "constructionTime        object\n",
      "renovationCondition      int64\n",
      "buildingStructure        int64\n",
      "ladderRatio            float64\n",
      "elevator               float64\n",
      "fiveYearsProperty      float64\n",
      "subway                 float64\n",
      "district                 int64\n",
      "communityAverage       float64\n",
      "dtype: object\n"
     ]
    }
   ],
   "source": [
    "print(df.dtypes)"
   ]
  },
  {
   "cell_type": "code",
   "execution_count": 23,
   "id": "1b85f73f",
   "metadata": {},
   "outputs": [
    {
     "name": "stdout",
     "output_type": "stream",
     "text": [
      "   livingRoom  count\n",
      "0           0     11\n",
      "1           1  42138\n",
      "2           2  77256\n",
      "3           3  31567\n",
      "4           4   3349\n",
      "5           5    537\n",
      "6           6    126\n",
      "7           7     22\n",
      "8           8      3\n",
      "9           9      2\n",
      "10          0     17\n",
      "11          1  40248\n",
      "12          2  83333\n",
      "13          3  36044\n",
      "14          4   3472\n",
      "15          5    570\n",
      "16          6    102\n",
      "17          7     15\n",
      "18          8      4\n",
      "19          9      3\n"
     ]
    }
   ],
   "source": [
    "# Group by 'bathroom' and count the number of entries for each group\n",
    "living_counts = df.groupby('livingRoom')['id'].count().reset_index()\n",
    "\n",
    "# Rename columns for clarity\n",
    "living_counts.columns = ['livingRoom', 'count']\n",
    "\n",
    "print(living_counts)"
   ]
  },
  {
   "cell_type": "code",
   "execution_count": 24,
   "id": "08ab8a2d",
   "metadata": {},
   "outputs": [
    {
     "name": "stdout",
     "output_type": "stream",
     "text": [
      "Unique values before cleaning:\n",
      "[2 3 1 4 5 6 9 0 7 8 '1' '4' '3' '2' '5' '7' '9' '6' '0' '8']\n"
     ]
    }
   ],
   "source": [
    "# 1. Inspect unique values\n",
    "print(\"Unique values before cleaning:\")\n",
    "print(df['livingRoom'].unique())"
   ]
  },
  {
   "cell_type": "code",
   "execution_count": 25,
   "id": "f4923e6b",
   "metadata": {},
   "outputs": [
    {
     "name": "stderr",
     "output_type": "stream",
     "text": [
      "<ipython-input-25-05213e199a58>:1: SettingWithCopyWarning: \n",
      "A value is trying to be set on a copy of a slice from a DataFrame.\n",
      "Try using .loc[row_indexer,col_indexer] = value instead\n",
      "\n",
      "See the caveats in the documentation: https://pandas.pydata.org/pandas-docs/stable/user_guide/indexing.html#returning-a-view-versus-a-copy\n",
      "  df['livingRoom'] = df['livingRoom'].astype(int)\n"
     ]
    }
   ],
   "source": [
    "df['livingRoom'] = df['livingRoom'].astype(int)"
   ]
  },
  {
   "cell_type": "code",
   "execution_count": 26,
   "id": "0473234d",
   "metadata": {},
   "outputs": [
    {
     "name": "stdout",
     "output_type": "stream",
     "text": [
      "Unique values after cleaning:\n",
      "[2 3 1 4 5 6 9 0 7 8]\n"
     ]
    }
   ],
   "source": [
    "print(\"Unique values after cleaning:\")\n",
    "print(df['livingRoom'].unique())"
   ]
  },
  {
   "cell_type": "code",
   "execution_count": 27,
   "id": "2740a326",
   "metadata": {},
   "outputs": [
    {
     "name": "stdout",
     "output_type": "stream",
     "text": [
      "   drawingRoom   count\n",
      "0            0   11300\n",
      "1            1  109783\n",
      "2            2   33418\n",
      "3            3     474\n",
      "4            4      31\n",
      "5            5       5\n",
      "6            0    8386\n",
      "7            1  115876\n",
      "8            2   39084\n",
      "9            3     444\n",
      "10           4      16\n",
      "11           5       2\n"
     ]
    }
   ],
   "source": [
    "living_counts = df.groupby('drawingRoom')['id'].count().reset_index()\n",
    "\n",
    "# Rename columns for clarity\n",
    "living_counts.columns = ['drawingRoom', 'count']\n",
    "\n",
    "print(living_counts)"
   ]
  },
  {
   "cell_type": "code",
   "execution_count": 31,
   "id": "9f747e3d",
   "metadata": {},
   "outputs": [
    {
     "name": "stderr",
     "output_type": "stream",
     "text": [
      "<ipython-input-31-4938f940c8f6>:1: SettingWithCopyWarning: \n",
      "A value is trying to be set on a copy of a slice from a DataFrame.\n",
      "Try using .loc[row_indexer,col_indexer] = value instead\n",
      "\n",
      "See the caveats in the documentation: https://pandas.pydata.org/pandas-docs/stable/user_guide/indexing.html#returning-a-view-versus-a-copy\n",
      "  df['drawingRoom'] = df['drawingRoom'].astype(int)\n"
     ]
    }
   ],
   "source": [
    "df['drawingRoom'] = df['drawingRoom'].astype(int)"
   ]
  },
  {
   "cell_type": "code",
   "execution_count": 32,
   "id": "11c3b606",
   "metadata": {},
   "outputs": [
    {
     "name": "stdout",
     "output_type": "stream",
     "text": [
      "Unique values after cleaning:\n",
      "[2 3 1 4 5 6 9 0 7 8]\n"
     ]
    }
   ],
   "source": [
    "print(\"Unique values after cleaning:\")\n",
    "print(df['livingRoom'].unique())"
   ]
  },
  {
   "cell_type": "code",
   "execution_count": 33,
   "id": "773c0c65",
   "metadata": {},
   "outputs": [
    {
     "name": "stdout",
     "output_type": "stream",
     "text": [
      "id                      object\n",
      "Lng                    float64\n",
      "Lat                    float64\n",
      "Cid                      int64\n",
      "tradeTime               object\n",
      "DOM                    float64\n",
      "followers                int64\n",
      "totalPrice             float64\n",
      "price                    int64\n",
      "square                 float64\n",
      "livingRoom               int64\n",
      "drawingRoom              int64\n",
      "kitchen                  int64\n",
      "bathRoom                 int64\n",
      "floor                   object\n",
      "buildingType           float64\n",
      "constructionTime        object\n",
      "renovationCondition      int64\n",
      "buildingStructure        int64\n",
      "ladderRatio            float64\n",
      "elevator               float64\n",
      "fiveYearsProperty      float64\n",
      "subway                 float64\n",
      "district                 int64\n",
      "communityAverage       float64\n",
      "dtype: object\n"
     ]
    }
   ],
   "source": [
    "print(df.dtypes)"
   ]
  },
  {
   "cell_type": "markdown",
   "id": "8fed1a30",
   "metadata": {},
   "source": [
    "# FLOOR DROPPER"
   ]
  },
  {
   "cell_type": "code",
   "execution_count": 34,
   "id": "6745dedd",
   "metadata": {},
   "outputs": [],
   "source": [
    "df = df.drop('floor',axis = 1)"
   ]
  },
  {
   "cell_type": "code",
   "execution_count": 35,
   "id": "eaf904af",
   "metadata": {},
   "outputs": [
    {
     "name": "stdout",
     "output_type": "stream",
     "text": [
      "id                      object\n",
      "Lng                    float64\n",
      "Lat                    float64\n",
      "Cid                      int64\n",
      "tradeTime               object\n",
      "DOM                    float64\n",
      "followers                int64\n",
      "totalPrice             float64\n",
      "price                    int64\n",
      "square                 float64\n",
      "livingRoom               int64\n",
      "drawingRoom              int64\n",
      "kitchen                  int64\n",
      "bathRoom                 int64\n",
      "buildingType           float64\n",
      "constructionTime        object\n",
      "renovationCondition      int64\n",
      "buildingStructure        int64\n",
      "ladderRatio            float64\n",
      "elevator               float64\n",
      "fiveYearsProperty      float64\n",
      "subway                 float64\n",
      "district                 int64\n",
      "communityAverage       float64\n",
      "dtype: object\n"
     ]
    }
   ],
   "source": [
    "print(df.dtypes)"
   ]
  },
  {
   "cell_type": "code",
   "execution_count": 36,
   "id": "868f3a5c",
   "metadata": {},
   "outputs": [
    {
     "name": "stdout",
     "output_type": "stream",
     "text": [
      "Unique values before cleaning:\n",
      "['2005' '2004' '2008' '1960' '1997' '2009' '2006' '1991' '2001' '1990'\n",
      " '2011' '2000' '1998' '2010' '1996' '1993' '2002' '未知' '2012' '1989'\n",
      " '2003' '2007' '1994' '1984' '1992' '2014' '1985' '2013' '1999' '1979'\n",
      " '1981' '1976' '1982' '1975' '1983' '1986' '1995' '1965' '1988' '1987'\n",
      " '2015' '1955' '1980' '1978' '1958' '1970' '1956' '1977' '1964' '1963'\n",
      " '1967' '2016' '1974' '1973' '1959' '1954' '1962' '1966' '1957' '1944'\n",
      " '1972' '1971' '1953' '1968' '1961' '1950' '1952' '1933' '1969' '1906'\n",
      " '1934' '1914']\n"
     ]
    }
   ],
   "source": [
    "print(\"Unique values before cleaning:\")\n",
    "print(df['constructionTime'].unique())"
   ]
  },
  {
   "cell_type": "code",
   "execution_count": 39,
   "id": "9c9974e8",
   "metadata": {},
   "outputs": [
    {
     "name": "stdout",
     "output_type": "stream",
     "text": [
      "   constructionTime  count\n",
      "0              1906      1\n",
      "1              1914      1\n",
      "2              1933      1\n",
      "3              1934      2\n",
      "4              1944      2\n",
      "..              ...    ...\n",
      "66             2012   5057\n",
      "67             2013   2344\n",
      "68             2014   2127\n",
      "69             2015    478\n",
      "70             2016     85\n",
      "\n",
      "[71 rows x 2 columns]\n"
     ]
    }
   ],
   "source": [
    "living_counts = df.groupby('constructionTime')['id'].count().reset_index()\n",
    "\n",
    "# Rename columns for clarity\n",
    "living_counts.columns = ['constructionTime', 'count']\n",
    "\n",
    "print(living_counts)"
   ]
  },
  {
   "cell_type": "code",
   "execution_count": 44,
   "id": "07a20660",
   "metadata": {},
   "outputs": [],
   "source": [
    "df['constructionTime'].replace(0, 2024, inplace=True)"
   ]
  },
  {
   "cell_type": "code",
   "execution_count": 45,
   "id": "4aa71c59",
   "metadata": {},
   "outputs": [],
   "source": [
    "df['constructionTime'] = df['constructionTime'].astype(int)"
   ]
  },
  {
   "cell_type": "code",
   "execution_count": 46,
   "id": "6331dd36",
   "metadata": {},
   "outputs": [
    {
     "name": "stdout",
     "output_type": "stream",
     "text": [
      "id                      object\n",
      "Lng                    float64\n",
      "Lat                    float64\n",
      "Cid                      int64\n",
      "tradeTime               object\n",
      "DOM                    float64\n",
      "followers                int64\n",
      "totalPrice             float64\n",
      "price                    int64\n",
      "square                 float64\n",
      "livingRoom               int64\n",
      "drawingRoom              int64\n",
      "kitchen                  int64\n",
      "bathRoom                 int64\n",
      "buildingType           float64\n",
      "constructionTime         int64\n",
      "renovationCondition      int64\n",
      "buildingStructure        int64\n",
      "ladderRatio            float64\n",
      "elevator               float64\n",
      "fiveYearsProperty      float64\n",
      "subway                 float64\n",
      "district                 int64\n",
      "communityAverage       float64\n",
      "dtype: object\n"
     ]
    }
   ],
   "source": [
    "print(df.dtypes)"
   ]
  },
  {
   "cell_type": "code",
   "execution_count": 47,
   "id": "5559c4e5",
   "metadata": {},
   "outputs": [],
   "source": [
    "df['buildingAge'] = 2024 - df['constructionTime']"
   ]
  },
  {
   "cell_type": "code",
   "execution_count": 48,
   "id": "7a5c22ab",
   "metadata": {},
   "outputs": [
    {
     "name": "stdout",
     "output_type": "stream",
     "text": [
      "id                      object\n",
      "Lng                    float64\n",
      "Lat                    float64\n",
      "Cid                      int64\n",
      "tradeTime               object\n",
      "DOM                    float64\n",
      "followers                int64\n",
      "totalPrice             float64\n",
      "price                    int64\n",
      "square                 float64\n",
      "livingRoom               int64\n",
      "drawingRoom              int64\n",
      "kitchen                  int64\n",
      "bathRoom                 int64\n",
      "buildingType           float64\n",
      "constructionTime         int64\n",
      "renovationCondition      int64\n",
      "buildingStructure        int64\n",
      "ladderRatio            float64\n",
      "elevator               float64\n",
      "fiveYearsProperty      float64\n",
      "subway                 float64\n",
      "district                 int64\n",
      "communityAverage       float64\n",
      "buildingAge              int64\n",
      "dtype: object\n"
     ]
    }
   ],
   "source": [
    "print(df.dtypes)"
   ]
  },
  {
   "cell_type": "code",
   "execution_count": 49,
   "id": "c852bdbd",
   "metadata": {},
   "outputs": [
    {
     "name": "stdout",
     "output_type": "stream",
     "text": [
      "id                             object\n",
      "Lng                           float64\n",
      "Lat                           float64\n",
      "Cid                             int64\n",
      "tradeTime              datetime64[ns]\n",
      "DOM                           float64\n",
      "followers                       int64\n",
      "totalPrice                    float64\n",
      "price                           int64\n",
      "square                        float64\n",
      "livingRoom                      int64\n",
      "drawingRoom                     int64\n",
      "kitchen                         int64\n",
      "bathRoom                        int64\n",
      "buildingType                  float64\n",
      "constructionTime                int64\n",
      "renovationCondition             int64\n",
      "buildingStructure               int64\n",
      "ladderRatio                   float64\n",
      "elevator                      float64\n",
      "fiveYearsProperty             float64\n",
      "subway                        float64\n",
      "district                        int64\n",
      "communityAverage              float64\n",
      "buildingAge                     int64\n",
      "dtype: object\n"
     ]
    }
   ],
   "source": [
    "# Convert 'tradeTime' to datetime\n",
    "df['tradeTime'] = pd.to_datetime(df['tradeTime'])\n",
    "\n",
    "# Check the updated data types\n",
    "print(df.dtypes)"
   ]
  },
  {
   "cell_type": "code",
   "execution_count": 50,
   "id": "6e87d908",
   "metadata": {},
   "outputs": [
    {
     "name": "stdout",
     "output_type": "stream",
     "text": [
      "id                             object\n",
      "Lng                           float64\n",
      "Lat                           float64\n",
      "Cid                             int64\n",
      "tradeTime              datetime64[ns]\n",
      "DOM                           float64\n",
      "followers                       int64\n",
      "totalPrice                    float64\n",
      "price                           int64\n",
      "square                        float64\n",
      "livingRoom                      int64\n",
      "drawingRoom                     int64\n",
      "kitchen                         int64\n",
      "bathRoom                        int64\n",
      "buildingType                  float64\n",
      "constructionTime                int64\n",
      "renovationCondition             int64\n",
      "buildingStructure               int64\n",
      "ladderRatio                   float64\n",
      "elevator                      float64\n",
      "fiveYearsProperty             float64\n",
      "subway                        float64\n",
      "district                        int64\n",
      "communityAverage              float64\n",
      "buildingAge                     int64\n",
      "dtype: object\n"
     ]
    }
   ],
   "source": [
    "print(df.dtypes)"
   ]
  },
  {
   "cell_type": "code",
   "execution_count": 52,
   "id": "093b164b",
   "metadata": {},
   "outputs": [],
   "source": [
    "df = df.drop('constructionTime',axis = 1)"
   ]
  },
  {
   "cell_type": "code",
   "execution_count": 53,
   "id": "0da7c8bf",
   "metadata": {},
   "outputs": [
    {
     "name": "stdout",
     "output_type": "stream",
     "text": [
      "id                             object\n",
      "Lng                           float64\n",
      "Lat                           float64\n",
      "Cid                             int64\n",
      "tradeTime              datetime64[ns]\n",
      "DOM                           float64\n",
      "followers                       int64\n",
      "totalPrice                    float64\n",
      "price                           int64\n",
      "square                        float64\n",
      "livingRoom                      int64\n",
      "drawingRoom                     int64\n",
      "kitchen                         int64\n",
      "bathRoom                        int64\n",
      "buildingType                  float64\n",
      "renovationCondition             int64\n",
      "buildingStructure               int64\n",
      "ladderRatio                   float64\n",
      "elevator                      float64\n",
      "fiveYearsProperty             float64\n",
      "subway                        float64\n",
      "district                        int64\n",
      "communityAverage              float64\n",
      "buildingAge                     int64\n",
      "dtype: object\n"
     ]
    }
   ],
   "source": [
    "print(df.dtypes)"
   ]
  },
  {
   "cell_type": "markdown",
   "id": "d7a61b1f",
   "metadata": {},
   "source": [
    "# PER SQUARE PRICE DROPPER"
   ]
  },
  {
   "cell_type": "code",
   "execution_count": 54,
   "id": "6a35f60a",
   "metadata": {},
   "outputs": [],
   "source": [
    "df = df.drop('price',axis = 1)"
   ]
  },
  {
   "cell_type": "code",
   "execution_count": 55,
   "id": "1b898cdb",
   "metadata": {},
   "outputs": [
    {
     "name": "stdout",
     "output_type": "stream",
     "text": [
      "id                             object\n",
      "Lng                           float64\n",
      "Lat                           float64\n",
      "Cid                             int64\n",
      "tradeTime              datetime64[ns]\n",
      "DOM                           float64\n",
      "followers                       int64\n",
      "totalPrice                    float64\n",
      "square                        float64\n",
      "livingRoom                      int64\n",
      "drawingRoom                     int64\n",
      "kitchen                         int64\n",
      "bathRoom                        int64\n",
      "buildingType                  float64\n",
      "renovationCondition             int64\n",
      "buildingStructure               int64\n",
      "ladderRatio                   float64\n",
      "elevator                      float64\n",
      "fiveYearsProperty             float64\n",
      "subway                        float64\n",
      "district                        int64\n",
      "communityAverage              float64\n",
      "buildingAge                     int64\n",
      "dtype: object\n"
     ]
    }
   ],
   "source": [
    "print(df.dtypes)"
   ]
  },
  {
   "cell_type": "markdown",
   "id": "c20a3ed1",
   "metadata": {},
   "source": [
    "# FOREST REGRESSOR"
   ]
  },
  {
   "cell_type": "code",
   "execution_count": 80,
   "id": "def10c88",
   "metadata": {},
   "outputs": [],
   "source": [
    "from sklearn.model_selection import train_test_split\n",
    "from sklearn.ensemble import RandomForestRegressor\n",
    "from sklearn.metrics import mean_absolute_error, mean_squared_error, r2_score\n",
    "import tensorflow as tf\n",
    "from tensorflow.keras.models import Sequential\n",
    "from tensorflow.keras.layers import Dense"
   ]
  },
  {
   "cell_type": "code",
   "execution_count": 81,
   "id": "b6ad2967",
   "metadata": {},
   "outputs": [],
   "source": [
    "# Features and target\n",
    "X = df.drop(columns=['totalPrice', 'id', 'tradeTime'])  # Drop 'totalPrice' (target) and non-numeric columns\n",
    "y = df['totalPrice']"
   ]
  },
  {
   "cell_type": "code",
   "execution_count": 82,
   "id": "9d7e2a79",
   "metadata": {},
   "outputs": [],
   "source": [
    "# 1. Handle missing values if any (fill with median for simplicity)\n",
    "X = X.fillna(X.median())"
   ]
  },
  {
   "cell_type": "code",
   "execution_count": 83,
   "id": "445d12b7",
   "metadata": {},
   "outputs": [],
   "source": [
    "X_train, X_test, y_train, y_test = train_test_split(X, y, test_size=0.2, random_state=42)"
   ]
  },
  {
   "cell_type": "code",
   "execution_count": 84,
   "id": "5ea991e6",
   "metadata": {},
   "outputs": [
    {
     "data": {
      "text/html": [
       "<style>#sk-container-id-2 {\n",
       "  /* Definition of color scheme common for light and dark mode */\n",
       "  --sklearn-color-text: black;\n",
       "  --sklearn-color-line: gray;\n",
       "  /* Definition of color scheme for unfitted estimators */\n",
       "  --sklearn-color-unfitted-level-0: #fff5e6;\n",
       "  --sklearn-color-unfitted-level-1: #f6e4d2;\n",
       "  --sklearn-color-unfitted-level-2: #ffe0b3;\n",
       "  --sklearn-color-unfitted-level-3: chocolate;\n",
       "  /* Definition of color scheme for fitted estimators */\n",
       "  --sklearn-color-fitted-level-0: #f0f8ff;\n",
       "  --sklearn-color-fitted-level-1: #d4ebff;\n",
       "  --sklearn-color-fitted-level-2: #b3dbfd;\n",
       "  --sklearn-color-fitted-level-3: cornflowerblue;\n",
       "\n",
       "  /* Specific color for light theme */\n",
       "  --sklearn-color-text-on-default-background: var(--sg-text-color, var(--theme-code-foreground, var(--jp-content-font-color1, black)));\n",
       "  --sklearn-color-background: var(--sg-background-color, var(--theme-background, var(--jp-layout-color0, white)));\n",
       "  --sklearn-color-border-box: var(--sg-text-color, var(--theme-code-foreground, var(--jp-content-font-color1, black)));\n",
       "  --sklearn-color-icon: #696969;\n",
       "\n",
       "  @media (prefers-color-scheme: dark) {\n",
       "    /* Redefinition of color scheme for dark theme */\n",
       "    --sklearn-color-text-on-default-background: var(--sg-text-color, var(--theme-code-foreground, var(--jp-content-font-color1, white)));\n",
       "    --sklearn-color-background: var(--sg-background-color, var(--theme-background, var(--jp-layout-color0, #111)));\n",
       "    --sklearn-color-border-box: var(--sg-text-color, var(--theme-code-foreground, var(--jp-content-font-color1, white)));\n",
       "    --sklearn-color-icon: #878787;\n",
       "  }\n",
       "}\n",
       "\n",
       "#sk-container-id-2 {\n",
       "  color: var(--sklearn-color-text);\n",
       "}\n",
       "\n",
       "#sk-container-id-2 pre {\n",
       "  padding: 0;\n",
       "}\n",
       "\n",
       "#sk-container-id-2 input.sk-hidden--visually {\n",
       "  border: 0;\n",
       "  clip: rect(1px 1px 1px 1px);\n",
       "  clip: rect(1px, 1px, 1px, 1px);\n",
       "  height: 1px;\n",
       "  margin: -1px;\n",
       "  overflow: hidden;\n",
       "  padding: 0;\n",
       "  position: absolute;\n",
       "  width: 1px;\n",
       "}\n",
       "\n",
       "#sk-container-id-2 div.sk-dashed-wrapped {\n",
       "  border: 1px dashed var(--sklearn-color-line);\n",
       "  margin: 0 0.4em 0.5em 0.4em;\n",
       "  box-sizing: border-box;\n",
       "  padding-bottom: 0.4em;\n",
       "  background-color: var(--sklearn-color-background);\n",
       "}\n",
       "\n",
       "#sk-container-id-2 div.sk-container {\n",
       "  /* jupyter's `normalize.less` sets `[hidden] { display: none; }`\n",
       "     but bootstrap.min.css set `[hidden] { display: none !important; }`\n",
       "     so we also need the `!important` here to be able to override the\n",
       "     default hidden behavior on the sphinx rendered scikit-learn.org.\n",
       "     See: https://github.com/scikit-learn/scikit-learn/issues/21755 */\n",
       "  display: inline-block !important;\n",
       "  position: relative;\n",
       "}\n",
       "\n",
       "#sk-container-id-2 div.sk-text-repr-fallback {\n",
       "  display: none;\n",
       "}\n",
       "\n",
       "div.sk-parallel-item,\n",
       "div.sk-serial,\n",
       "div.sk-item {\n",
       "  /* draw centered vertical line to link estimators */\n",
       "  background-image: linear-gradient(var(--sklearn-color-text-on-default-background), var(--sklearn-color-text-on-default-background));\n",
       "  background-size: 2px 100%;\n",
       "  background-repeat: no-repeat;\n",
       "  background-position: center center;\n",
       "}\n",
       "\n",
       "/* Parallel-specific style estimator block */\n",
       "\n",
       "#sk-container-id-2 div.sk-parallel-item::after {\n",
       "  content: \"\";\n",
       "  width: 100%;\n",
       "  border-bottom: 2px solid var(--sklearn-color-text-on-default-background);\n",
       "  flex-grow: 1;\n",
       "}\n",
       "\n",
       "#sk-container-id-2 div.sk-parallel {\n",
       "  display: flex;\n",
       "  align-items: stretch;\n",
       "  justify-content: center;\n",
       "  background-color: var(--sklearn-color-background);\n",
       "  position: relative;\n",
       "}\n",
       "\n",
       "#sk-container-id-2 div.sk-parallel-item {\n",
       "  display: flex;\n",
       "  flex-direction: column;\n",
       "}\n",
       "\n",
       "#sk-container-id-2 div.sk-parallel-item:first-child::after {\n",
       "  align-self: flex-end;\n",
       "  width: 50%;\n",
       "}\n",
       "\n",
       "#sk-container-id-2 div.sk-parallel-item:last-child::after {\n",
       "  align-self: flex-start;\n",
       "  width: 50%;\n",
       "}\n",
       "\n",
       "#sk-container-id-2 div.sk-parallel-item:only-child::after {\n",
       "  width: 0;\n",
       "}\n",
       "\n",
       "/* Serial-specific style estimator block */\n",
       "\n",
       "#sk-container-id-2 div.sk-serial {\n",
       "  display: flex;\n",
       "  flex-direction: column;\n",
       "  align-items: center;\n",
       "  background-color: var(--sklearn-color-background);\n",
       "  padding-right: 1em;\n",
       "  padding-left: 1em;\n",
       "}\n",
       "\n",
       "\n",
       "/* Toggleable style: style used for estimator/Pipeline/ColumnTransformer box that is\n",
       "clickable and can be expanded/collapsed.\n",
       "- Pipeline and ColumnTransformer use this feature and define the default style\n",
       "- Estimators will overwrite some part of the style using the `sk-estimator` class\n",
       "*/\n",
       "\n",
       "/* Pipeline and ColumnTransformer style (default) */\n",
       "\n",
       "#sk-container-id-2 div.sk-toggleable {\n",
       "  /* Default theme specific background. It is overwritten whether we have a\n",
       "  specific estimator or a Pipeline/ColumnTransformer */\n",
       "  background-color: var(--sklearn-color-background);\n",
       "}\n",
       "\n",
       "/* Toggleable label */\n",
       "#sk-container-id-2 label.sk-toggleable__label {\n",
       "  cursor: pointer;\n",
       "  display: block;\n",
       "  width: 100%;\n",
       "  margin-bottom: 0;\n",
       "  padding: 0.5em;\n",
       "  box-sizing: border-box;\n",
       "  text-align: center;\n",
       "}\n",
       "\n",
       "#sk-container-id-2 label.sk-toggleable__label-arrow:before {\n",
       "  /* Arrow on the left of the label */\n",
       "  content: \"▸\";\n",
       "  float: left;\n",
       "  margin-right: 0.25em;\n",
       "  color: var(--sklearn-color-icon);\n",
       "}\n",
       "\n",
       "#sk-container-id-2 label.sk-toggleable__label-arrow:hover:before {\n",
       "  color: var(--sklearn-color-text);\n",
       "}\n",
       "\n",
       "/* Toggleable content - dropdown */\n",
       "\n",
       "#sk-container-id-2 div.sk-toggleable__content {\n",
       "  max-height: 0;\n",
       "  max-width: 0;\n",
       "  overflow: hidden;\n",
       "  text-align: left;\n",
       "  /* unfitted */\n",
       "  background-color: var(--sklearn-color-unfitted-level-0);\n",
       "}\n",
       "\n",
       "#sk-container-id-2 div.sk-toggleable__content.fitted {\n",
       "  /* fitted */\n",
       "  background-color: var(--sklearn-color-fitted-level-0);\n",
       "}\n",
       "\n",
       "#sk-container-id-2 div.sk-toggleable__content pre {\n",
       "  margin: 0.2em;\n",
       "  border-radius: 0.25em;\n",
       "  color: var(--sklearn-color-text);\n",
       "  /* unfitted */\n",
       "  background-color: var(--sklearn-color-unfitted-level-0);\n",
       "}\n",
       "\n",
       "#sk-container-id-2 div.sk-toggleable__content.fitted pre {\n",
       "  /* unfitted */\n",
       "  background-color: var(--sklearn-color-fitted-level-0);\n",
       "}\n",
       "\n",
       "#sk-container-id-2 input.sk-toggleable__control:checked~div.sk-toggleable__content {\n",
       "  /* Expand drop-down */\n",
       "  max-height: 200px;\n",
       "  max-width: 100%;\n",
       "  overflow: auto;\n",
       "}\n",
       "\n",
       "#sk-container-id-2 input.sk-toggleable__control:checked~label.sk-toggleable__label-arrow:before {\n",
       "  content: \"▾\";\n",
       "}\n",
       "\n",
       "/* Pipeline/ColumnTransformer-specific style */\n",
       "\n",
       "#sk-container-id-2 div.sk-label input.sk-toggleable__control:checked~label.sk-toggleable__label {\n",
       "  color: var(--sklearn-color-text);\n",
       "  background-color: var(--sklearn-color-unfitted-level-2);\n",
       "}\n",
       "\n",
       "#sk-container-id-2 div.sk-label.fitted input.sk-toggleable__control:checked~label.sk-toggleable__label {\n",
       "  background-color: var(--sklearn-color-fitted-level-2);\n",
       "}\n",
       "\n",
       "/* Estimator-specific style */\n",
       "\n",
       "/* Colorize estimator box */\n",
       "#sk-container-id-2 div.sk-estimator input.sk-toggleable__control:checked~label.sk-toggleable__label {\n",
       "  /* unfitted */\n",
       "  background-color: var(--sklearn-color-unfitted-level-2);\n",
       "}\n",
       "\n",
       "#sk-container-id-2 div.sk-estimator.fitted input.sk-toggleable__control:checked~label.sk-toggleable__label {\n",
       "  /* fitted */\n",
       "  background-color: var(--sklearn-color-fitted-level-2);\n",
       "}\n",
       "\n",
       "#sk-container-id-2 div.sk-label label.sk-toggleable__label,\n",
       "#sk-container-id-2 div.sk-label label {\n",
       "  /* The background is the default theme color */\n",
       "  color: var(--sklearn-color-text-on-default-background);\n",
       "}\n",
       "\n",
       "/* On hover, darken the color of the background */\n",
       "#sk-container-id-2 div.sk-label:hover label.sk-toggleable__label {\n",
       "  color: var(--sklearn-color-text);\n",
       "  background-color: var(--sklearn-color-unfitted-level-2);\n",
       "}\n",
       "\n",
       "/* Label box, darken color on hover, fitted */\n",
       "#sk-container-id-2 div.sk-label.fitted:hover label.sk-toggleable__label.fitted {\n",
       "  color: var(--sklearn-color-text);\n",
       "  background-color: var(--sklearn-color-fitted-level-2);\n",
       "}\n",
       "\n",
       "/* Estimator label */\n",
       "\n",
       "#sk-container-id-2 div.sk-label label {\n",
       "  font-family: monospace;\n",
       "  font-weight: bold;\n",
       "  display: inline-block;\n",
       "  line-height: 1.2em;\n",
       "}\n",
       "\n",
       "#sk-container-id-2 div.sk-label-container {\n",
       "  text-align: center;\n",
       "}\n",
       "\n",
       "/* Estimator-specific */\n",
       "#sk-container-id-2 div.sk-estimator {\n",
       "  font-family: monospace;\n",
       "  border: 1px dotted var(--sklearn-color-border-box);\n",
       "  border-radius: 0.25em;\n",
       "  box-sizing: border-box;\n",
       "  margin-bottom: 0.5em;\n",
       "  /* unfitted */\n",
       "  background-color: var(--sklearn-color-unfitted-level-0);\n",
       "}\n",
       "\n",
       "#sk-container-id-2 div.sk-estimator.fitted {\n",
       "  /* fitted */\n",
       "  background-color: var(--sklearn-color-fitted-level-0);\n",
       "}\n",
       "\n",
       "/* on hover */\n",
       "#sk-container-id-2 div.sk-estimator:hover {\n",
       "  /* unfitted */\n",
       "  background-color: var(--sklearn-color-unfitted-level-2);\n",
       "}\n",
       "\n",
       "#sk-container-id-2 div.sk-estimator.fitted:hover {\n",
       "  /* fitted */\n",
       "  background-color: var(--sklearn-color-fitted-level-2);\n",
       "}\n",
       "\n",
       "/* Specification for estimator info (e.g. \"i\" and \"?\") */\n",
       "\n",
       "/* Common style for \"i\" and \"?\" */\n",
       "\n",
       ".sk-estimator-doc-link,\n",
       "a:link.sk-estimator-doc-link,\n",
       "a:visited.sk-estimator-doc-link {\n",
       "  float: right;\n",
       "  font-size: smaller;\n",
       "  line-height: 1em;\n",
       "  font-family: monospace;\n",
       "  background-color: var(--sklearn-color-background);\n",
       "  border-radius: 1em;\n",
       "  height: 1em;\n",
       "  width: 1em;\n",
       "  text-decoration: none !important;\n",
       "  margin-left: 1ex;\n",
       "  /* unfitted */\n",
       "  border: var(--sklearn-color-unfitted-level-1) 1pt solid;\n",
       "  color: var(--sklearn-color-unfitted-level-1);\n",
       "}\n",
       "\n",
       ".sk-estimator-doc-link.fitted,\n",
       "a:link.sk-estimator-doc-link.fitted,\n",
       "a:visited.sk-estimator-doc-link.fitted {\n",
       "  /* fitted */\n",
       "  border: var(--sklearn-color-fitted-level-1) 1pt solid;\n",
       "  color: var(--sklearn-color-fitted-level-1);\n",
       "}\n",
       "\n",
       "/* On hover */\n",
       "div.sk-estimator:hover .sk-estimator-doc-link:hover,\n",
       ".sk-estimator-doc-link:hover,\n",
       "div.sk-label-container:hover .sk-estimator-doc-link:hover,\n",
       ".sk-estimator-doc-link:hover {\n",
       "  /* unfitted */\n",
       "  background-color: var(--sklearn-color-unfitted-level-3);\n",
       "  color: var(--sklearn-color-background);\n",
       "  text-decoration: none;\n",
       "}\n",
       "\n",
       "div.sk-estimator.fitted:hover .sk-estimator-doc-link.fitted:hover,\n",
       ".sk-estimator-doc-link.fitted:hover,\n",
       "div.sk-label-container:hover .sk-estimator-doc-link.fitted:hover,\n",
       ".sk-estimator-doc-link.fitted:hover {\n",
       "  /* fitted */\n",
       "  background-color: var(--sklearn-color-fitted-level-3);\n",
       "  color: var(--sklearn-color-background);\n",
       "  text-decoration: none;\n",
       "}\n",
       "\n",
       "/* Span, style for the box shown on hovering the info icon */\n",
       ".sk-estimator-doc-link span {\n",
       "  display: none;\n",
       "  z-index: 9999;\n",
       "  position: relative;\n",
       "  font-weight: normal;\n",
       "  right: .2ex;\n",
       "  padding: .5ex;\n",
       "  margin: .5ex;\n",
       "  width: min-content;\n",
       "  min-width: 20ex;\n",
       "  max-width: 50ex;\n",
       "  color: var(--sklearn-color-text);\n",
       "  box-shadow: 2pt 2pt 4pt #999;\n",
       "  /* unfitted */\n",
       "  background: var(--sklearn-color-unfitted-level-0);\n",
       "  border: .5pt solid var(--sklearn-color-unfitted-level-3);\n",
       "}\n",
       "\n",
       ".sk-estimator-doc-link.fitted span {\n",
       "  /* fitted */\n",
       "  background: var(--sklearn-color-fitted-level-0);\n",
       "  border: var(--sklearn-color-fitted-level-3);\n",
       "}\n",
       "\n",
       ".sk-estimator-doc-link:hover span {\n",
       "  display: block;\n",
       "}\n",
       "\n",
       "/* \"?\"-specific style due to the `<a>` HTML tag */\n",
       "\n",
       "#sk-container-id-2 a.estimator_doc_link {\n",
       "  float: right;\n",
       "  font-size: 1rem;\n",
       "  line-height: 1em;\n",
       "  font-family: monospace;\n",
       "  background-color: var(--sklearn-color-background);\n",
       "  border-radius: 1rem;\n",
       "  height: 1rem;\n",
       "  width: 1rem;\n",
       "  text-decoration: none;\n",
       "  /* unfitted */\n",
       "  color: var(--sklearn-color-unfitted-level-1);\n",
       "  border: var(--sklearn-color-unfitted-level-1) 1pt solid;\n",
       "}\n",
       "\n",
       "#sk-container-id-2 a.estimator_doc_link.fitted {\n",
       "  /* fitted */\n",
       "  border: var(--sklearn-color-fitted-level-1) 1pt solid;\n",
       "  color: var(--sklearn-color-fitted-level-1);\n",
       "}\n",
       "\n",
       "/* On hover */\n",
       "#sk-container-id-2 a.estimator_doc_link:hover {\n",
       "  /* unfitted */\n",
       "  background-color: var(--sklearn-color-unfitted-level-3);\n",
       "  color: var(--sklearn-color-background);\n",
       "  text-decoration: none;\n",
       "}\n",
       "\n",
       "#sk-container-id-2 a.estimator_doc_link.fitted:hover {\n",
       "  /* fitted */\n",
       "  background-color: var(--sklearn-color-fitted-level-3);\n",
       "}\n",
       "</style><div id=\"sk-container-id-2\" class=\"sk-top-container\"><div class=\"sk-text-repr-fallback\"><pre>RandomForestRegressor(random_state=42)</pre><b>In a Jupyter environment, please rerun this cell to show the HTML representation or trust the notebook. <br />On GitHub, the HTML representation is unable to render, please try loading this page with nbviewer.org.</b></div><div class=\"sk-container\" hidden><div class=\"sk-item\"><div class=\"sk-estimator fitted sk-toggleable\"><input class=\"sk-toggleable__control sk-hidden--visually\" id=\"sk-estimator-id-2\" type=\"checkbox\" checked><label for=\"sk-estimator-id-2\" class=\"sk-toggleable__label fitted sk-toggleable__label-arrow fitted\">&nbsp;&nbsp;RandomForestRegressor<a class=\"sk-estimator-doc-link fitted\" rel=\"noreferrer\" target=\"_blank\" href=\"https://scikit-learn.org/1.5/modules/generated/sklearn.ensemble.RandomForestRegressor.html\">?<span>Documentation for RandomForestRegressor</span></a><span class=\"sk-estimator-doc-link fitted\">i<span>Fitted</span></span></label><div class=\"sk-toggleable__content fitted\"><pre>RandomForestRegressor(random_state=42)</pre></div> </div></div></div></div>"
      ],
      "text/plain": [
       "RandomForestRegressor(random_state=42)"
      ]
     },
     "execution_count": 84,
     "metadata": {},
     "output_type": "execute_result"
    }
   ],
   "source": [
    "\n",
    "# -----------------------------\n",
    "# Train RandomForestRegressor\n",
    "# -----------------------------\n",
    "rf_model = RandomForestRegressor(n_estimators=100, random_state=42)\n",
    "rf_model.fit(X_train, y_train)"
   ]
  },
  {
   "cell_type": "code",
   "execution_count": 85,
   "id": "2114dfcf",
   "metadata": {},
   "outputs": [],
   "source": [
    "# Predict using RandomForestRegressor\n",
    "y_pred_rf = rf_model.predict(X_test)\n"
   ]
  },
  {
   "cell_type": "code",
   "execution_count": 86,
   "id": "76b0200f",
   "metadata": {},
   "outputs": [
    {
     "name": "stdout",
     "output_type": "stream",
     "text": [
      "RandomForestRegressor Performance:\n",
      "Mean Absolute Error: 47.89\n",
      "Mean Squared Error: 6686.31\n",
      "R2 Score: 0.87\n"
     ]
    }
   ],
   "source": [
    "# Evaluate RandomForestRegressor\n",
    "print(\"RandomForestRegressor Performance:\")\n",
    "print(f\"Mean Absolute Error: {mean_absolute_error(y_test, y_pred_rf):.2f}\")\n",
    "print(f\"Mean Squared Error: {mean_squared_error(y_test, y_pred_rf):.2f}\")\n",
    "print(f\"R2 Score: {r2_score(y_test, y_pred_rf):.2f}\")"
   ]
  },
  {
   "cell_type": "code",
   "execution_count": 87,
   "id": "aa67acc8",
   "metadata": {},
   "outputs": [
    {
     "name": "stdout",
     "output_type": "stream",
     "text": [
      "\n",
      "Feature Importances:\n",
      "square: 0.4319\n",
      "communityAverage: 0.3051\n",
      "DOM: 0.1542\n",
      "followers: 0.0242\n",
      "renovationCondition: 0.0181\n",
      "Lat: 0.0128\n",
      "Lng: 0.0124\n",
      "buildingAge: 0.0103\n",
      "ladderRatio: 0.0073\n",
      "livingRoom: 0.0033\n",
      "fiveYearsProperty: 0.0032\n",
      "drawingRoom: 0.0027\n",
      "district: 0.0026\n",
      "buildingType: 0.0023\n",
      "bathRoom: 0.0023\n",
      "buildingStructure: 0.0018\n",
      "Cid: 0.0017\n",
      "elevator: 0.0017\n",
      "subway: 0.0014\n",
      "kitchen: 0.0010\n"
     ]
    }
   ],
   "source": [
    "# -----------------------------\n",
    "# Feature Importance Analysis\n",
    "# -----------------------------\n",
    "importances = rf_model.feature_importances_\n",
    "feature_names = X_train.columns\n",
    "sorted_indices = np.argsort(importances)[::-1]\n",
    "\n",
    "print(\"\\nFeature Importances:\")\n",
    "for idx in sorted_indices:\n",
    "    print(f\"{feature_names[idx]}: {importances[idx]:.4f}\")\n"
   ]
  },
  {
   "cell_type": "code",
   "execution_count": 88,
   "id": "6048837a",
   "metadata": {},
   "outputs": [
    {
     "data": {
      "image/png": "[encoded data removed]",
      "text/plain": [
       "<Figure size 720x432 with 1 Axes>"
      ]
     },
     "metadata": {
      "needs_background": "light"
     },
     "output_type": "display_data"
    }
   ],
   "source": [
    "# Plot Feature Importances\n",
    "plt.figure(figsize=(10, 6))\n",
    "plt.barh(range(len(sorted_indices)), importances[sorted_indices], align='center')\n",
    "plt.yticks(range(len(sorted_indices)), [feature_names[i] for i in sorted_indices])\n",
    "plt.gca().invert_yaxis()\n",
    "plt.xlabel('Importance')\n",
    "plt.title('Feature Importances in RandomForestRegressor')\n",
    "plt.show()"
   ]
  },
  {
   "cell_type": "code",
   "execution_count": null,
   "id": "63dba288",
   "metadata": {},
   "outputs": [],
   "source": [
    "# -----------------------------\n",
    "# Hyperparameter Tuning with GridSearchCV\n",
    "# -----------------------------\n",
    "from sklearn.model_selection import GridSearchCV\n",
    "\n",
    "param_grid = {\n",
    "    'n_estimators': [100, 200, 300],\n",
    "    'max_depth': [None, 10, 20, 30],\n",
    "    'min_samples_split': [2, 5, 10]\n",
    "}\n",
    "\n",
    "grid_search = GridSearchCV(RandomForestRegressor(random_state=42), param_grid, cv=5, verbose=2, n_jobs=-1)\n",
    "grid_search.fit(X_train, y_train)"
   ]
  },
  {
   "cell_type": "code",
   "execution_count": null,
   "id": "5ffa9d8b",
   "metadata": {},
   "outputs": [],
   "source": [
    "\n",
    "# Display the best parameters\n",
    "print(f\"\\nBest Parameters: {grid_search.best_params_}\")"
   ]
  },
  {
   "cell_type": "code",
   "execution_count": null,
   "id": "8b241d04",
   "metadata": {},
   "outputs": [],
   "source": [
    "# Train the RandomForest with Best Parameters\n",
    "best_rf_model = grid_search.best_estimator_\n",
    "best_rf_model.fit(X_train, y_train)"
   ]
  },
  {
   "cell_type": "code",
   "execution_count": null,
   "id": "044b98e1",
   "metadata": {},
   "outputs": [],
   "source": [
    "\n",
    "# Predict using the best model\n",
    "y_pred_best_rf = best_rf_model.predict(X_test)"
   ]
  },
  {
   "cell_type": "code",
   "execution_count": null,
   "id": "53c56f6a",
   "metadata": {},
   "outputs": [],
   "source": [
    "\n",
    "# Evaluate the Best RandomForestRegressor\n",
    "print(\"\\nBest RandomForestRegressor Performance:\")\n",
    "print(f\"Mean Absolute Error: {mean_absolute_error(y_test, y_pred_best_rf):.2f}\")\n",
    "print(f\"Mean Squared Error: {mean_squared_error(y_test, y_pred_best_rf):.2f}\")\n",
    "print(f\"R2 Score: {r2_score(y_test, y_pred_best_rf):.2f}\")"
   ]
  },
  {
   "cell_type": "code",
   "execution_count": 64,
   "id": "ec5a91b2",
   "metadata": {},
   "outputs": [
    {
     "data": {
      "image/png": "[encoded data removed]",
      "text/plain": [
       "<Figure size 720x432 with 1 Axes>"
      ]
     },
     "metadata": {
      "needs_background": "light"
     },
     "output_type": "display_data"
    }
   ],
   "source": [
    "# OLD\n",
    "plt.figure(figsize=(10, 6))\n",
    "plt.hist(df['totalPrice'], bins=50, color='skyblue', edgecolor='black')\n",
    "plt.title('Distribution of totalPrice')\n",
    "plt.xlabel('totalPrice')\n",
    "plt.ylabel('Frequency')\n",
    "plt.grid(axis='y', linestyle='--', alpha=0.7)\n",
    "plt.show()"
   ]
  },
  {
   "cell_type": "code",
   "execution_count": 79,
   "id": "df286db1",
   "metadata": {},
   "outputs": [],
   "source": [
    "#NEW"
   ]
  },
  {
   "cell_type": "code",
   "execution_count": 65,
   "id": "a0a975b5",
   "metadata": {},
   "outputs": [
    {
     "name": "stdout",
     "output_type": "stream",
     "text": [
      "Minimum totalPrice: 0.1\n",
      "Maximum totalPrice: 18130.0\n"
     ]
    }
   ],
   "source": [
    "min_price = df['totalPrice'].min()\n",
    "max_price = df['totalPrice'].max()\n",
    "\n",
    "print(f\"Minimum totalPrice: {min_price}\")\n",
    "print(f\"Maximum totalPrice: {max_price}\")"
   ]
  },
  {
   "cell_type": "code",
   "execution_count": 66,
   "id": "acaf7bc6",
   "metadata": {},
   "outputs": [
    {
     "name": "stdout",
     "output_type": "stream",
     "text": [
      "Mean totalPrice: 349.05\n",
      "MAE as a Percentage of Mean: 13.72%\n"
     ]
    }
   ],
   "source": [
    "mean_price = df['totalPrice'].mean()\n",
    "mae = 47.89\n",
    "\n",
    "mae_percentage = (mae / mean_price) * 100\n",
    "\n",
    "print(f\"Mean totalPrice: {mean_price:.2f}\")\n",
    "print(f\"MAE as a Percentage of Mean: {mae_percentage:.2f}%\")"
   ]
  },
  {
   "cell_type": "markdown",
   "id": "ec6d8d5e",
   "metadata": {},
   "source": [
    "# NEURAL METHODS"
   ]
  },
  {
   "cell_type": "code",
   "execution_count": 73,
   "id": "04bbd70b",
   "metadata": {
    "scrolled": false
   },
   "outputs": [
    {
     "name": "stderr",
     "output_type": "stream",
     "text": [
      "WARNING:absl:At this time, the v2.11+ optimizer `tf.keras.optimizers.Adam` runs slowly on M1/M2 Macs, please use the legacy Keras optimizer instead, located at `tf.keras.optimizers.legacy.Adam`.\n",
      "WARNING:absl:There is a known slowdown when using v2.11+ Keras optimizers on M1/M2 Macs. Falling back to the legacy Keras optimizer, i.e., `tf.keras.optimizers.legacy.Adam`.\n"
     ]
    },
    {
     "name": "stdout",
     "output_type": "stream",
     "text": [
      "Epoch 1/50\n",
      "6377/6377 [==============================] - 3s 518us/step - loss: 25866.3438 - mae: 97.3861 - val_loss: 16420.2285 - val_mae: 80.4527\n",
      "Epoch 2/50\n",
      "6377/6377 [==============================] - 3s 509us/step - loss: 15737.9180 - mae: 78.6536 - val_loss: 13421.8818 - val_mae: 75.9025\n",
      "Epoch 3/50\n",
      "6377/6377 [==============================] - 3s 515us/step - loss: 12548.2744 - mae: 70.7586 - val_loss: 10566.9443 - val_mae: 67.4169\n",
      "Epoch 4/50\n",
      "6377/6377 [==============================] - 3s 508us/step - loss: 11780.1865 - mae: 67.1969 - val_loss: 10057.7939 - val_mae: 65.6250\n",
      "Epoch 5/50\n",
      "6377/6377 [==============================] - 3s 509us/step - loss: 11836.0664 - mae: 66.0286 - val_loss: 10203.8389 - val_mae: 64.5205\n",
      "Epoch 6/50\n",
      "6377/6377 [==============================] - 3s 525us/step - loss: 12571.9316 - mae: 64.9429 - val_loss: 9450.2812 - val_mae: 63.5033\n",
      "Epoch 7/50\n",
      "6377/6377 [==============================] - 3s 509us/step - loss: 13341.0947 - mae: 64.2942 - val_loss: 9582.8701 - val_mae: 63.2396\n",
      "Epoch 8/50\n",
      "6377/6377 [==============================] - 3s 506us/step - loss: 14819.2764 - mae: 63.5130 - val_loss: 9169.0850 - val_mae: 62.1177\n",
      "Epoch 9/50\n",
      "6377/6377 [==============================] - 3s 508us/step - loss: 14272.1162 - mae: 62.3728 - val_loss: 8988.8740 - val_mae: 61.0659\n",
      "Epoch 10/50\n",
      "6377/6377 [==============================] - 3s 506us/step - loss: 14334.0117 - mae: 61.3636 - val_loss: 9094.4961 - val_mae: 59.9197\n",
      "Epoch 11/50\n",
      "6377/6377 [==============================] - 3s 506us/step - loss: 14828.5615 - mae: 60.5726 - val_loss: 8942.2295 - val_mae: 59.1918\n",
      "Epoch 12/50\n",
      "6377/6377 [==============================] - 3s 508us/step - loss: 16912.5195 - mae: 60.1648 - val_loss: 8830.1904 - val_mae: 59.0436\n",
      "Epoch 13/50\n",
      "6377/6377 [==============================] - 3s 506us/step - loss: 27897.4688 - mae: 59.9105 - val_loss: 8749.5518 - val_mae: 59.4197\n",
      "Epoch 14/50\n",
      "6377/6377 [==============================] - 3s 507us/step - loss: 31541.3438 - mae: 59.6679 - val_loss: 9073.0420 - val_mae: 58.7325\n",
      "Epoch 15/50\n",
      "6377/6377 [==============================] - 3s 507us/step - loss: 35641.1953 - mae: 59.4843 - val_loss: 8981.4883 - val_mae: 57.9568\n",
      "Epoch 16/50\n",
      "6377/6377 [==============================] - 3s 509us/step - loss: 35066.5430 - mae: 59.2711 - val_loss: 8761.9004 - val_mae: 59.0744\n",
      "Epoch 17/50\n",
      "6377/6377 [==============================] - 3s 505us/step - loss: 33399.8750 - mae: 59.0563 - val_loss: 8771.5420 - val_mae: 58.2103\n",
      "Epoch 18/50\n",
      "6377/6377 [==============================] - 3s 507us/step - loss: 33970.7852 - mae: 58.7621 - val_loss: 8539.1436 - val_mae: 58.0382\n",
      "Epoch 19/50\n",
      "6377/6377 [==============================] - 3s 506us/step - loss: 36984.6250 - mae: 58.5625 - val_loss: 8625.7686 - val_mae: 57.4800\n",
      "Epoch 20/50\n",
      "6377/6377 [==============================] - 3s 508us/step - loss: 40367.2031 - mae: 58.4574 - val_loss: 8933.7207 - val_mae: 57.3057\n",
      "Epoch 21/50\n",
      "6377/6377 [==============================] - 3s 508us/step - loss: 35095.8867 - mae: 58.2887 - val_loss: 8605.7695 - val_mae: 56.9903\n",
      "Epoch 22/50\n",
      "6377/6377 [==============================] - 3s 506us/step - loss: 31081.4902 - mae: 57.9026 - val_loss: 8271.1924 - val_mae: 57.2159\n",
      "Epoch 23/50\n",
      "6377/6377 [==============================] - 3s 507us/step - loss: 37071.4648 - mae: 57.8850 - val_loss: 8393.5605 - val_mae: 56.6591\n",
      "Epoch 24/50\n",
      "6377/6377 [==============================] - 3s 507us/step - loss: 37498.0938 - mae: 57.7535 - val_loss: 8244.3311 - val_mae: 57.5332\n",
      "Epoch 25/50\n",
      "6377/6377 [==============================] - 3s 506us/step - loss: 44381.3047 - mae: 57.6721 - val_loss: 8204.4463 - val_mae: 57.4726\n",
      "Epoch 26/50\n",
      "6377/6377 [==============================] - 3s 508us/step - loss: 44877.7773 - mae: 57.7531 - val_loss: 8343.7012 - val_mae: 56.4241\n",
      "Epoch 27/50\n",
      "6377/6377 [==============================] - 3s 506us/step - loss: 48083.0977 - mae: 57.7193 - val_loss: 8485.9609 - val_mae: 56.5221\n",
      "Epoch 28/50\n",
      "6377/6377 [==============================] - 3s 507us/step - loss: 45204.1836 - mae: 57.6415 - val_loss: 8171.1924 - val_mae: 56.6242\n",
      "Epoch 29/50\n",
      "6377/6377 [==============================] - 3s 507us/step - loss: 30144.2266 - mae: 57.4428 - val_loss: 8081.8545 - val_mae: 58.5757\n",
      "Epoch 30/50\n",
      "6377/6377 [==============================] - 3s 506us/step - loss: 20653.3281 - mae: 57.2198 - val_loss: 7813.4727 - val_mae: 56.3718\n",
      "Epoch 31/50\n",
      "6377/6377 [==============================] - 3s 506us/step - loss: 8871.6855 - mae: 56.7655 - val_loss: 7773.9331 - val_mae: 56.8423\n",
      "Epoch 32/50\n",
      "6377/6377 [==============================] - 3s 507us/step - loss: 8943.4209 - mae: 56.7707 - val_loss: 7792.0039 - val_mae: 56.2410\n",
      "Epoch 33/50\n",
      "6377/6377 [==============================] - 3s 507us/step - loss: 9930.8193 - mae: 56.7233 - val_loss: 7650.0635 - val_mae: 56.1615\n",
      "Epoch 34/50\n",
      "6377/6377 [==============================] - 3s 508us/step - loss: 9175.0459 - mae: 56.6477 - val_loss: 7667.3281 - val_mae: 56.6717\n",
      "Epoch 35/50\n",
      "6377/6377 [==============================] - 3s 508us/step - loss: 8719.2949 - mae: 56.6026 - val_loss: 7781.3179 - val_mae: 56.0019\n",
      "Epoch 36/50\n",
      "6377/6377 [==============================] - 3s 507us/step - loss: 9777.3125 - mae: 56.6597 - val_loss: 7758.8096 - val_mae: 55.9609\n",
      "Epoch 37/50\n",
      "6377/6377 [==============================] - 3s 506us/step - loss: 11373.2178 - mae: 56.6494 - val_loss: 7701.6626 - val_mae: 56.5629\n",
      "Epoch 38/50\n",
      "6377/6377 [==============================] - 3s 516us/step - loss: 11828.3770 - mae: 56.6042 - val_loss: 7783.5259 - val_mae: 55.8500\n",
      "Epoch 39/50\n",
      "6377/6377 [==============================] - 3s 524us/step - loss: 11480.0723 - mae: 56.6635 - val_loss: 7738.2983 - val_mae: 55.8576\n",
      "Epoch 40/50\n",
      "6377/6377 [==============================] - 3s 509us/step - loss: 10241.1182 - mae: 56.5961 - val_loss: 7759.6362 - val_mae: 56.2032\n",
      "Epoch 41/50\n",
      "6377/6377 [==============================] - 3s 512us/step - loss: 11572.8086 - mae: 56.6680 - val_loss: 7782.5435 - val_mae: 56.4955\n",
      "Epoch 42/50\n",
      "6377/6377 [==============================] - 3s 508us/step - loss: 12507.5068 - mae: 56.5487 - val_loss: 7736.2007 - val_mae: 55.6249\n",
      "Epoch 43/50\n",
      "6377/6377 [==============================] - 3s 506us/step - loss: 10276.6797 - mae: 56.4880 - val_loss: 7740.1514 - val_mae: 57.3108\n",
      "Epoch 44/50\n",
      "6377/6377 [==============================] - 3s 507us/step - loss: 9031.0049 - mae: 56.3303 - val_loss: 7976.5571 - val_mae: 55.3549\n",
      "Epoch 45/50\n",
      "6377/6377 [==============================] - 3s 506us/step - loss: 8948.3359 - mae: 56.4224 - val_loss: 7774.7549 - val_mae: 55.6727\n",
      "Epoch 46/50\n",
      "6377/6377 [==============================] - 3s 506us/step - loss: 9161.9551 - mae: 56.4604 - val_loss: 7722.8198 - val_mae: 56.1998\n",
      "Epoch 47/50\n",
      "6377/6377 [==============================] - 3s 511us/step - loss: 9869.2793 - mae: 56.4184 - val_loss: 7618.1255 - val_mae: 56.2715\n",
      "Epoch 48/50\n",
      "6377/6377 [==============================] - 3s 506us/step - loss: 10426.3428 - mae: 56.3817 - val_loss: 7651.7026 - val_mae: 56.3432\n",
      "Epoch 49/50\n",
      "6377/6377 [==============================] - 3s 506us/step - loss: 8695.0752 - mae: 56.2464 - val_loss: 7641.2349 - val_mae: 55.8796\n",
      "Epoch 50/50\n",
      "6377/6377 [==============================] - 3s 506us/step - loss: 8675.9053 - mae: 56.1372 - val_loss: 7594.3994 - val_mae: 56.0458\n"
     ]
    }
   ],
   "source": [
    "import numpy as np\n",
    "from tensorflow.keras.models import Sequential\n",
    "from tensorflow.keras.layers import Dense\n",
    "from tensorflow.keras.optimizers import Adam\n",
    "from sklearn.preprocessing import StandardScaler\n",
    "\n",
    "# Scale the data\n",
    "scaler = StandardScaler()\n",
    "X_train = scaler.fit_transform(X_train)\n",
    "X_test = scaler.transform(X_test)\n",
    "\n",
    "# Ensure data types are float32\n",
    "X_train = X_train.astype(np.float32)\n",
    "y_train = y_train.astype(np.float32)\n",
    "\n",
    "# Define the model\n",
    "model = Sequential([\n",
    "    Dense(64, activation='relu', input_shape=(X_train.shape[1],)),\n",
    "    Dense(32, activation='relu'),\n",
    "    Dense(1)\n",
    "])\n",
    "\n",
    "# Compile with a lower learning rate and gradient clipping\n",
    "optimizer = Adam(learning_rate=0.001, clipvalue=1.0)\n",
    "model.compile(optimizer=optimizer, loss='mse', metrics=['mae'])\n",
    "\n",
    "# Train the model\n",
    "history = model.fit(X_train, y_train, epochs=50, batch_size=32, validation_split=0.2, verbose=1)"
   ]
  },
  {
   "cell_type": "code",
   "execution_count": 74,
   "id": "acb75cd0",
   "metadata": {},
   "outputs": [
    {
     "name": "stdout",
     "output_type": "stream",
     "text": [
      "1993/1993 [==============================] - 1s 276us/step\n"
     ]
    }
   ],
   "source": [
    "# Predict using Neural Network\n",
    "y_pred_nn = nn_model.predict(X_test)"
   ]
  },
  {
   "cell_type": "code",
   "execution_count": 77,
   "id": "b9d3ed0d",
   "metadata": {},
   "outputs": [
    {
     "name": "stdout",
     "output_type": "stream",
     "text": [
      "0\n",
      "63764\n"
     ]
    }
   ],
   "source": [
    "print(y_test.isnull().sum())  # Check if y_test has NaN values\n",
    "print(np.isnan(y_pred_nn).sum())  # Check if y_pred_nn has NaN values"
   ]
  },
  {
   "cell_type": "code",
   "execution_count": null,
   "id": "9adeb12d",
   "metadata": {
    "scrolled": false
   },
   "outputs": [],
   "source": [
    "# Evaluate Neural Network\n",
    "print(\"\\nNeural Network Performance:\")\n",
    "print(f\"Mean Absolute Error: {mean_absolute_error(y_test, y_pred_nn):.2f}\")\n",
    "print(f\"Mean Squared Error: {mean_squared_error(y_test, y_pred_nn):.2f}\")\n",
    "print(f\"R2 Score: {r2_score(y_test, y_pred_nn):.2f}\")\n"
   ]
  },
  {
   "cell_type": "code",
   "execution_count": null,
   "id": "585cbce2",
   "metadata": {
    "scrolled": true
   },
   "outputs": [],
   "source": [
    "print(X_test.isnull().sum())  # Check for NaNs in X_test\n",
    "print(X_train.isnull().sum())  # Check for NaNs in X_train"
   ]
  },
  {
   "cell_type": "code",
   "execution_count": null,
   "id": "c351f2f1",
   "metadata": {},
   "outputs": [],
   "source": []
  }
 ],
 "metadata": {
  "kernelspec": {
   "display_name": "Python 3",
   "language": "python",
   "name": "python3"
  },
  "language_info": {
   "codemirror_mode": {
    "name": "ipython",
    "version": 3
   },
   "file_extension": ".py",
   "mimetype": "text/x-python",
   "name": "python",
   "nbconvert_exporter": "python",
   "pygments_lexer": "ipython3",
   "version": "3.11.6"
  }
 },
 "nbformat": 4,
 "nbformat_minor": 5
}
